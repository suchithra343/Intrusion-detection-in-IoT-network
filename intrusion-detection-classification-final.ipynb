{
 "cells": [
  {
   "cell_type": "markdown",
   "metadata": {
    "_cell_guid": "9ea825d0-2940-4b22-97e4-2e0334b0e246",
    "_uuid": "d180f31c308c90819e44011aa6e223a9752fb98e"
   },
   "source": [
    "# Introduction\n",
    "    "
   ]
  },
  {
   "cell_type": "markdown",
   "metadata": {
    "_cell_guid": "e353758a-23e4-4f94-a7b4-76dd07ebdd04",
    "_uuid": "d3a0dcd29f0cfd9568e8a401a7894afb69e44658"
   },
   "source": [
    "## 1) Feature selection\n",
    "   "
   ]
  },
  {
   "cell_type": "markdown",
   "metadata": {
    "_cell_guid": "4a708a81-c556-45ec-987a-8cd4a4c09dcd",
    "_uuid": "6c1b5ccc179140f6f8fc83ccaace4d84d2a91cbe"
   },
   "source": [
    "###### - Pandas training dataset, test dataset"
   ]
  },
  {
   "cell_type": "code",
   "execution_count": 2,
   "metadata": {
    "_cell_guid": "936dcd83-e109-4078-bde8-2c1d616f61ef",
    "_uuid": "f208d6751b1a1c39f3e7d77e17e822136f254104"
   },
   "outputs": [],
   "source": [
    "import pandas as pd\n",
    "import seaborn as sns\n",
    "import matplotlib.pyplot as plt  \n",
    "import matplotlib as matplot\n",
    "import numpy as np\n",
    "\n",
    "import re\n",
    "import sklearn\n",
    "\n",
    "import warnings\n",
    "warnings.filterwarnings(\"ignore\")\n",
    "\n",
    "%matplotlib inline\n",
    "\n",
    "df_train = pd.read_csv('Train_data.csv')\n",
    "df_test = pd.read_csv('test_data.csv')\n",
    "df_test = df_test.drop('Unnamed: 0', axis=1)"
   ]
  },
  {
   "cell_type": "code",
   "execution_count": 81,
   "metadata": {
    "_cell_guid": "b81cd6e4-7b43-46f0-a619-a2732816f259",
    "_uuid": "3adf147fed7b86527bae09791bd55c6a2a555e86"
   },
   "outputs": [
    {
     "data": {
      "text/html": [
       "<div>\n",
       "<style scoped>\n",
       "    .dataframe tbody tr th:only-of-type {\n",
       "        vertical-align: middle;\n",
       "    }\n",
       "\n",
       "    .dataframe tbody tr th {\n",
       "        vertical-align: top;\n",
       "    }\n",
       "\n",
       "    .dataframe thead th {\n",
       "        text-align: right;\n",
       "    }\n",
       "</style>\n",
       "<table border=\"1\" class=\"dataframe\">\n",
       "  <thead>\n",
       "    <tr style=\"text-align: right;\">\n",
       "      <th></th>\n",
       "      <th>duration</th>\n",
       "      <th>protocol_type</th>\n",
       "      <th>service</th>\n",
       "      <th>flag</th>\n",
       "      <th>src_bytes</th>\n",
       "      <th>dst_bytes</th>\n",
       "      <th>land</th>\n",
       "      <th>wrong_fragment</th>\n",
       "      <th>urgent</th>\n",
       "      <th>hot</th>\n",
       "      <th>...</th>\n",
       "      <th>dst_host_srv_count</th>\n",
       "      <th>dst_host_same_srv_rate</th>\n",
       "      <th>dst_host_diff_srv_rate</th>\n",
       "      <th>dst_host_same_src_port_rate</th>\n",
       "      <th>dst_host_srv_diff_host_rate</th>\n",
       "      <th>dst_host_serror_rate</th>\n",
       "      <th>dst_host_srv_serror_rate</th>\n",
       "      <th>dst_host_rerror_rate</th>\n",
       "      <th>dst_host_srv_rerror_rate</th>\n",
       "      <th>xAttack</th>\n",
       "    </tr>\n",
       "  </thead>\n",
       "  <tbody>\n",
       "    <tr>\n",
       "      <th>0</th>\n",
       "      <td>0</td>\n",
       "      <td>0</td>\n",
       "      <td>20</td>\n",
       "      <td>2</td>\n",
       "      <td>491</td>\n",
       "      <td>0</td>\n",
       "      <td>0</td>\n",
       "      <td>0</td>\n",
       "      <td>0</td>\n",
       "      <td>0</td>\n",
       "      <td>...</td>\n",
       "      <td>25</td>\n",
       "      <td>0.17</td>\n",
       "      <td>0.03</td>\n",
       "      <td>0.17</td>\n",
       "      <td>0.00</td>\n",
       "      <td>0.00</td>\n",
       "      <td>0.00</td>\n",
       "      <td>0.05</td>\n",
       "      <td>0.00</td>\n",
       "      <td>1</td>\n",
       "    </tr>\n",
       "    <tr>\n",
       "      <th>1</th>\n",
       "      <td>0</td>\n",
       "      <td>2</td>\n",
       "      <td>45</td>\n",
       "      <td>2</td>\n",
       "      <td>146</td>\n",
       "      <td>0</td>\n",
       "      <td>0</td>\n",
       "      <td>0</td>\n",
       "      <td>0</td>\n",
       "      <td>0</td>\n",
       "      <td>...</td>\n",
       "      <td>1</td>\n",
       "      <td>0.00</td>\n",
       "      <td>0.60</td>\n",
       "      <td>0.88</td>\n",
       "      <td>0.00</td>\n",
       "      <td>0.00</td>\n",
       "      <td>0.00</td>\n",
       "      <td>0.00</td>\n",
       "      <td>0.00</td>\n",
       "      <td>1</td>\n",
       "    </tr>\n",
       "    <tr>\n",
       "      <th>2</th>\n",
       "      <td>0</td>\n",
       "      <td>0</td>\n",
       "      <td>50</td>\n",
       "      <td>4</td>\n",
       "      <td>0</td>\n",
       "      <td>0</td>\n",
       "      <td>0</td>\n",
       "      <td>0</td>\n",
       "      <td>0</td>\n",
       "      <td>0</td>\n",
       "      <td>...</td>\n",
       "      <td>26</td>\n",
       "      <td>0.10</td>\n",
       "      <td>0.05</td>\n",
       "      <td>0.00</td>\n",
       "      <td>0.00</td>\n",
       "      <td>1.00</td>\n",
       "      <td>1.00</td>\n",
       "      <td>0.00</td>\n",
       "      <td>0.00</td>\n",
       "      <td>0</td>\n",
       "    </tr>\n",
       "    <tr>\n",
       "      <th>3</th>\n",
       "      <td>0</td>\n",
       "      <td>0</td>\n",
       "      <td>25</td>\n",
       "      <td>2</td>\n",
       "      <td>232</td>\n",
       "      <td>8153</td>\n",
       "      <td>0</td>\n",
       "      <td>0</td>\n",
       "      <td>0</td>\n",
       "      <td>0</td>\n",
       "      <td>...</td>\n",
       "      <td>255</td>\n",
       "      <td>1.00</td>\n",
       "      <td>0.00</td>\n",
       "      <td>0.03</td>\n",
       "      <td>0.04</td>\n",
       "      <td>0.03</td>\n",
       "      <td>0.01</td>\n",
       "      <td>0.00</td>\n",
       "      <td>0.01</td>\n",
       "      <td>1</td>\n",
       "    </tr>\n",
       "    <tr>\n",
       "      <th>4</th>\n",
       "      <td>0</td>\n",
       "      <td>0</td>\n",
       "      <td>25</td>\n",
       "      <td>2</td>\n",
       "      <td>199</td>\n",
       "      <td>420</td>\n",
       "      <td>0</td>\n",
       "      <td>0</td>\n",
       "      <td>0</td>\n",
       "      <td>0</td>\n",
       "      <td>...</td>\n",
       "      <td>255</td>\n",
       "      <td>1.00</td>\n",
       "      <td>0.00</td>\n",
       "      <td>0.00</td>\n",
       "      <td>0.00</td>\n",
       "      <td>0.00</td>\n",
       "      <td>0.00</td>\n",
       "      <td>0.00</td>\n",
       "      <td>0.00</td>\n",
       "      <td>1</td>\n",
       "    </tr>\n",
       "  </tbody>\n",
       "</table>\n",
       "<p>5 rows × 41 columns</p>\n",
       "</div>"
      ],
      "text/plain": [
       "   duration  protocol_type  service  flag  src_bytes  dst_bytes  land  \\\n",
       "0         0              0       20     2        491          0     0   \n",
       "1         0              2       45     2        146          0     0   \n",
       "2         0              0       50     4          0          0     0   \n",
       "3         0              0       25     2        232       8153     0   \n",
       "4         0              0       25     2        199        420     0   \n",
       "\n",
       "   wrong_fragment  urgent  hot  ...  dst_host_srv_count  \\\n",
       "0               0       0    0  ...                  25   \n",
       "1               0       0    0  ...                   1   \n",
       "2               0       0    0  ...                  26   \n",
       "3               0       0    0  ...                 255   \n",
       "4               0       0    0  ...                 255   \n",
       "\n",
       "   dst_host_same_srv_rate  dst_host_diff_srv_rate  \\\n",
       "0                    0.17                    0.03   \n",
       "1                    0.00                    0.60   \n",
       "2                    0.10                    0.05   \n",
       "3                    1.00                    0.00   \n",
       "4                    1.00                    0.00   \n",
       "\n",
       "   dst_host_same_src_port_rate  dst_host_srv_diff_host_rate  \\\n",
       "0                         0.17                         0.00   \n",
       "1                         0.88                         0.00   \n",
       "2                         0.00                         0.00   \n",
       "3                         0.03                         0.04   \n",
       "4                         0.00                         0.00   \n",
       "\n",
       "   dst_host_serror_rate  dst_host_srv_serror_rate  dst_host_rerror_rate  \\\n",
       "0                  0.00                      0.00                  0.05   \n",
       "1                  0.00                      0.00                  0.00   \n",
       "2                  1.00                      1.00                  0.00   \n",
       "3                  0.03                      0.01                  0.00   \n",
       "4                  0.00                      0.00                  0.00   \n",
       "\n",
       "   dst_host_srv_rerror_rate  xAttack  \n",
       "0                      0.00        1  \n",
       "1                      0.00        1  \n",
       "2                      0.00        0  \n",
       "3                      0.01        1  \n",
       "4                      0.00        1  \n",
       "\n",
       "[5 rows x 41 columns]"
      ]
     },
     "execution_count": 81,
     "metadata": {},
     "output_type": "execute_result"
    }
   ],
   "source": [
    "df_train.head()"
   ]
  },
  {
   "cell_type": "code",
   "execution_count": 4,
   "metadata": {
    "_cell_guid": "0f5ba59d-72f7-4edc-8d75-492a9f70cbe9",
    "_uuid": "9370a0518fe52406fd3224eaff704a50a0428f83"
   },
   "outputs": [
    {
     "data": {
      "text/html": [
       "<div>\n",
       "<style scoped>\n",
       "    .dataframe tbody tr th:only-of-type {\n",
       "        vertical-align: middle;\n",
       "    }\n",
       "\n",
       "    .dataframe tbody tr th {\n",
       "        vertical-align: top;\n",
       "    }\n",
       "\n",
       "    .dataframe thead th {\n",
       "        text-align: right;\n",
       "    }\n",
       "</style>\n",
       "<table border=\"1\" class=\"dataframe\">\n",
       "  <thead>\n",
       "    <tr style=\"text-align: right;\">\n",
       "      <th></th>\n",
       "      <th>duration</th>\n",
       "      <th>protocol_type</th>\n",
       "      <th>service</th>\n",
       "      <th>flag</th>\n",
       "      <th>src_bytes</th>\n",
       "      <th>dst_bytes</th>\n",
       "      <th>land</th>\n",
       "      <th>wrong_fragment</th>\n",
       "      <th>urgent</th>\n",
       "      <th>hot</th>\n",
       "      <th>...</th>\n",
       "      <th>dst_host_srv_count</th>\n",
       "      <th>dst_host_same_srv_rate</th>\n",
       "      <th>dst_host_diff_srv_rate</th>\n",
       "      <th>dst_host_same_src_port_rate</th>\n",
       "      <th>dst_host_srv_diff_host_rate</th>\n",
       "      <th>dst_host_serror_rate</th>\n",
       "      <th>dst_host_srv_serror_rate</th>\n",
       "      <th>dst_host_rerror_rate</th>\n",
       "      <th>dst_host_srv_rerror_rate</th>\n",
       "      <th>xAttack</th>\n",
       "    </tr>\n",
       "  </thead>\n",
       "  <tbody>\n",
       "    <tr>\n",
       "      <th>0</th>\n",
       "      <td>0</td>\n",
       "      <td>icmp</td>\n",
       "      <td>25</td>\n",
       "      <td>4</td>\n",
       "      <td>0</td>\n",
       "      <td>0</td>\n",
       "      <td>0</td>\n",
       "      <td>0</td>\n",
       "      <td>0</td>\n",
       "      <td>0</td>\n",
       "      <td>...</td>\n",
       "      <td>255</td>\n",
       "      <td>1.00</td>\n",
       "      <td>0.00</td>\n",
       "      <td>0.00</td>\n",
       "      <td>0.00</td>\n",
       "      <td>0.65</td>\n",
       "      <td>0.65</td>\n",
       "      <td>0.32</td>\n",
       "      <td>0.32</td>\n",
       "      <td>dos</td>\n",
       "    </tr>\n",
       "    <tr>\n",
       "      <th>1</th>\n",
       "      <td>0</td>\n",
       "      <td>icmp</td>\n",
       "      <td>25</td>\n",
       "      <td>2</td>\n",
       "      <td>312</td>\n",
       "      <td>1856</td>\n",
       "      <td>0</td>\n",
       "      <td>0</td>\n",
       "      <td>0</td>\n",
       "      <td>0</td>\n",
       "      <td>...</td>\n",
       "      <td>254</td>\n",
       "      <td>1.00</td>\n",
       "      <td>0.00</td>\n",
       "      <td>1.00</td>\n",
       "      <td>0.06</td>\n",
       "      <td>0.00</td>\n",
       "      <td>0.00</td>\n",
       "      <td>0.00</td>\n",
       "      <td>0.00</td>\n",
       "      <td>normal</td>\n",
       "    </tr>\n",
       "    <tr>\n",
       "      <th>2</th>\n",
       "      <td>0</td>\n",
       "      <td>icmp</td>\n",
       "      <td>25</td>\n",
       "      <td>2</td>\n",
       "      <td>245</td>\n",
       "      <td>2058</td>\n",
       "      <td>0</td>\n",
       "      <td>0</td>\n",
       "      <td>0</td>\n",
       "      <td>0</td>\n",
       "      <td>...</td>\n",
       "      <td>255</td>\n",
       "      <td>1.00</td>\n",
       "      <td>0.00</td>\n",
       "      <td>0.01</td>\n",
       "      <td>0.05</td>\n",
       "      <td>0.01</td>\n",
       "      <td>0.00</td>\n",
       "      <td>0.00</td>\n",
       "      <td>0.00</td>\n",
       "      <td>normal</td>\n",
       "    </tr>\n",
       "    <tr>\n",
       "      <th>3</th>\n",
       "      <td>0</td>\n",
       "      <td>icmp</td>\n",
       "      <td>25</td>\n",
       "      <td>2</td>\n",
       "      <td>298</td>\n",
       "      <td>1267</td>\n",
       "      <td>0</td>\n",
       "      <td>0</td>\n",
       "      <td>0</td>\n",
       "      <td>0</td>\n",
       "      <td>...</td>\n",
       "      <td>255</td>\n",
       "      <td>1.00</td>\n",
       "      <td>0.00</td>\n",
       "      <td>0.00</td>\n",
       "      <td>0.00</td>\n",
       "      <td>0.00</td>\n",
       "      <td>0.00</td>\n",
       "      <td>0.00</td>\n",
       "      <td>0.00</td>\n",
       "      <td>normal</td>\n",
       "    </tr>\n",
       "    <tr>\n",
       "      <th>4</th>\n",
       "      <td>0</td>\n",
       "      <td>icmp</td>\n",
       "      <td>20</td>\n",
       "      <td>2</td>\n",
       "      <td>740</td>\n",
       "      <td>0</td>\n",
       "      <td>0</td>\n",
       "      <td>0</td>\n",
       "      <td>0</td>\n",
       "      <td>0</td>\n",
       "      <td>...</td>\n",
       "      <td>19</td>\n",
       "      <td>0.18</td>\n",
       "      <td>0.03</td>\n",
       "      <td>0.18</td>\n",
       "      <td>0.00</td>\n",
       "      <td>0.00</td>\n",
       "      <td>0.00</td>\n",
       "      <td>0.00</td>\n",
       "      <td>0.00</td>\n",
       "      <td>normal</td>\n",
       "    </tr>\n",
       "  </tbody>\n",
       "</table>\n",
       "<p>5 rows × 42 columns</p>\n",
       "</div>"
      ],
      "text/plain": [
       "   duration protocol_type  service  flag  src_bytes  dst_bytes  land  \\\n",
       "0         0          icmp       25     4          0          0     0   \n",
       "1         0          icmp       25     2        312       1856     0   \n",
       "2         0          icmp       25     2        245       2058     0   \n",
       "3         0          icmp       25     2        298       1267     0   \n",
       "4         0          icmp       20     2        740          0     0   \n",
       "\n",
       "   wrong_fragment  urgent  hot  ...  dst_host_srv_count  \\\n",
       "0               0       0    0  ...                 255   \n",
       "1               0       0    0  ...                 254   \n",
       "2               0       0    0  ...                 255   \n",
       "3               0       0    0  ...                 255   \n",
       "4               0       0    0  ...                  19   \n",
       "\n",
       "   dst_host_same_srv_rate  dst_host_diff_srv_rate  \\\n",
       "0                    1.00                    0.00   \n",
       "1                    1.00                    0.00   \n",
       "2                    1.00                    0.00   \n",
       "3                    1.00                    0.00   \n",
       "4                    0.18                    0.03   \n",
       "\n",
       "   dst_host_same_src_port_rate  dst_host_srv_diff_host_rate  \\\n",
       "0                         0.00                         0.00   \n",
       "1                         1.00                         0.06   \n",
       "2                         0.01                         0.05   \n",
       "3                         0.00                         0.00   \n",
       "4                         0.18                         0.00   \n",
       "\n",
       "   dst_host_serror_rate  dst_host_srv_serror_rate  dst_host_rerror_rate  \\\n",
       "0                  0.65                      0.65                  0.32   \n",
       "1                  0.00                      0.00                  0.00   \n",
       "2                  0.01                      0.00                  0.00   \n",
       "3                  0.00                      0.00                  0.00   \n",
       "4                  0.00                      0.00                  0.00   \n",
       "\n",
       "   dst_host_srv_rerror_rate  xAttack  \n",
       "0                      0.32      dos  \n",
       "1                      0.00   normal  \n",
       "2                      0.00   normal  \n",
       "3                      0.00   normal  \n",
       "4                      0.00   normal  \n",
       "\n",
       "[5 rows x 42 columns]"
      ]
     },
     "execution_count": 4,
     "metadata": {},
     "output_type": "execute_result"
    }
   ],
   "source": [
    "df_test.head()"
   ]
  },
  {
   "cell_type": "markdown",
   "metadata": {
    "_cell_guid": "61fc250e-ce7d-4046-adc6-7943f694d319",
    "_uuid": "bc7fa31bd05d3c7e0f08faae251b4018adedd6ba"
   },
   "source": [
    "###### - training dataset test dateaset"
   ]
  },
  {
   "cell_type": "code",
   "execution_count": 5,
   "metadata": {
    "_cell_guid": "79ae1b78-ad06-4ff8-964f-5d64d206d11d",
    "_uuid": "8b82bcc8a65e3b04cfbd11931620fbffbdac52c3"
   },
   "outputs": [],
   "source": [
    "X_train = df_train.drop('xAttack', axis=1)\n",
    "Y_train = df_train.loc[:,['xAttack']]\n",
    "X_test = df_test.drop('xAttack', axis=1)\n",
    "Y_test = df_test.loc[:,['xAttack']]"
   ]
  },
  {
   "cell_type": "markdown",
   "metadata": {
    "_cell_guid": "b07e8a58-085a-4c04-9713-488bd0c50fea",
    "_uuid": "2035930bb9eafd19e2cb5906cb06ef6a0e50a619"
   },
   "source": [
    "###### - preprocessing  one hot encoding, Xonehotencoder, YLabelBinarizer"
   ]
  },
  {
   "cell_type": "code",
   "execution_count": 6,
   "metadata": {
    "_cell_guid": "10694d3e-addd-49f8-be5b-25f3e9cc63a0",
    "_uuid": "0f2e3a1aa95525075b8eb064b9173b36f4b651f2"
   },
   "outputs": [],
   "source": [
    "from sklearn import preprocessing\n",
    "from sklearn.preprocessing import OneHotEncoder"
   ]
  },
  {
   "cell_type": "code",
   "execution_count": 7,
   "metadata": {
    "_cell_guid": "58b70f7f-6ead-4b5e-8424-04660069681b",
    "_uuid": "193805a6a0e138e119a5d456b16fe468e84a683e"
   },
   "outputs": [],
   "source": [
    "le = preprocessing.LabelEncoder()\n",
    "enc = OneHotEncoder()\n",
    "lb = preprocessing.LabelBinarizer()"
   ]
  },
  {
   "cell_type": "markdown",
   "metadata": {
    "_cell_guid": "e77eb2f4-abf2-4aa9-9d0c-25b311178cad",
    "_uuid": "0f641714525c947ac7a47103effad55c69f4a8be"
   },
   "source": [
    "- X OneHotEncoding"
   ]
  },
  {
   "cell_type": "code",
   "execution_count": 8,
   "metadata": {
    "_cell_guid": "95e6a442-3cb5-452a-b0a8-23eadf29418c",
    "_uuid": "ce401e8dbf4fa966d0fbc8a103fd795f0bf0a781"
   },
   "outputs": [
    {
     "data": {
      "text/html": [
       "<div>\n",
       "<style scoped>\n",
       "    .dataframe tbody tr th:only-of-type {\n",
       "        vertical-align: middle;\n",
       "    }\n",
       "\n",
       "    .dataframe tbody tr th {\n",
       "        vertical-align: top;\n",
       "    }\n",
       "\n",
       "    .dataframe thead th {\n",
       "        text-align: right;\n",
       "    }\n",
       "</style>\n",
       "<table border=\"1\" class=\"dataframe\">\n",
       "  <thead>\n",
       "    <tr style=\"text-align: right;\">\n",
       "      <th></th>\n",
       "      <th>duration</th>\n",
       "      <th>protocol_type</th>\n",
       "      <th>service</th>\n",
       "      <th>flag</th>\n",
       "      <th>src_bytes</th>\n",
       "      <th>dst_bytes</th>\n",
       "      <th>land</th>\n",
       "      <th>wrong_fragment</th>\n",
       "      <th>urgent</th>\n",
       "      <th>hot</th>\n",
       "      <th>...</th>\n",
       "      <th>dst_host_count</th>\n",
       "      <th>dst_host_srv_count</th>\n",
       "      <th>dst_host_same_srv_rate</th>\n",
       "      <th>dst_host_diff_srv_rate</th>\n",
       "      <th>dst_host_same_src_port_rate</th>\n",
       "      <th>dst_host_srv_diff_host_rate</th>\n",
       "      <th>dst_host_serror_rate</th>\n",
       "      <th>dst_host_srv_serror_rate</th>\n",
       "      <th>dst_host_rerror_rate</th>\n",
       "      <th>dst_host_srv_rerror_rate</th>\n",
       "    </tr>\n",
       "  </thead>\n",
       "  <tbody>\n",
       "    <tr>\n",
       "      <th>0</th>\n",
       "      <td>0</td>\n",
       "      <td>0</td>\n",
       "      <td>20</td>\n",
       "      <td>2</td>\n",
       "      <td>491</td>\n",
       "      <td>0</td>\n",
       "      <td>0</td>\n",
       "      <td>0</td>\n",
       "      <td>0</td>\n",
       "      <td>0</td>\n",
       "      <td>...</td>\n",
       "      <td>150</td>\n",
       "      <td>25</td>\n",
       "      <td>0.17</td>\n",
       "      <td>0.03</td>\n",
       "      <td>0.17</td>\n",
       "      <td>0.00</td>\n",
       "      <td>0.00</td>\n",
       "      <td>0.00</td>\n",
       "      <td>0.05</td>\n",
       "      <td>0.00</td>\n",
       "    </tr>\n",
       "    <tr>\n",
       "      <th>1</th>\n",
       "      <td>0</td>\n",
       "      <td>2</td>\n",
       "      <td>45</td>\n",
       "      <td>2</td>\n",
       "      <td>146</td>\n",
       "      <td>0</td>\n",
       "      <td>0</td>\n",
       "      <td>0</td>\n",
       "      <td>0</td>\n",
       "      <td>0</td>\n",
       "      <td>...</td>\n",
       "      <td>255</td>\n",
       "      <td>1</td>\n",
       "      <td>0.00</td>\n",
       "      <td>0.60</td>\n",
       "      <td>0.88</td>\n",
       "      <td>0.00</td>\n",
       "      <td>0.00</td>\n",
       "      <td>0.00</td>\n",
       "      <td>0.00</td>\n",
       "      <td>0.00</td>\n",
       "    </tr>\n",
       "    <tr>\n",
       "      <th>2</th>\n",
       "      <td>0</td>\n",
       "      <td>0</td>\n",
       "      <td>50</td>\n",
       "      <td>4</td>\n",
       "      <td>0</td>\n",
       "      <td>0</td>\n",
       "      <td>0</td>\n",
       "      <td>0</td>\n",
       "      <td>0</td>\n",
       "      <td>0</td>\n",
       "      <td>...</td>\n",
       "      <td>255</td>\n",
       "      <td>26</td>\n",
       "      <td>0.10</td>\n",
       "      <td>0.05</td>\n",
       "      <td>0.00</td>\n",
       "      <td>0.00</td>\n",
       "      <td>1.00</td>\n",
       "      <td>1.00</td>\n",
       "      <td>0.00</td>\n",
       "      <td>0.00</td>\n",
       "    </tr>\n",
       "    <tr>\n",
       "      <th>3</th>\n",
       "      <td>0</td>\n",
       "      <td>0</td>\n",
       "      <td>25</td>\n",
       "      <td>2</td>\n",
       "      <td>232</td>\n",
       "      <td>8153</td>\n",
       "      <td>0</td>\n",
       "      <td>0</td>\n",
       "      <td>0</td>\n",
       "      <td>0</td>\n",
       "      <td>...</td>\n",
       "      <td>30</td>\n",
       "      <td>255</td>\n",
       "      <td>1.00</td>\n",
       "      <td>0.00</td>\n",
       "      <td>0.03</td>\n",
       "      <td>0.04</td>\n",
       "      <td>0.03</td>\n",
       "      <td>0.01</td>\n",
       "      <td>0.00</td>\n",
       "      <td>0.01</td>\n",
       "    </tr>\n",
       "    <tr>\n",
       "      <th>4</th>\n",
       "      <td>0</td>\n",
       "      <td>0</td>\n",
       "      <td>25</td>\n",
       "      <td>2</td>\n",
       "      <td>199</td>\n",
       "      <td>420</td>\n",
       "      <td>0</td>\n",
       "      <td>0</td>\n",
       "      <td>0</td>\n",
       "      <td>0</td>\n",
       "      <td>...</td>\n",
       "      <td>255</td>\n",
       "      <td>255</td>\n",
       "      <td>1.00</td>\n",
       "      <td>0.00</td>\n",
       "      <td>0.00</td>\n",
       "      <td>0.00</td>\n",
       "      <td>0.00</td>\n",
       "      <td>0.00</td>\n",
       "      <td>0.00</td>\n",
       "      <td>0.00</td>\n",
       "    </tr>\n",
       "  </tbody>\n",
       "</table>\n",
       "<p>5 rows × 41 columns</p>\n",
       "</div>"
      ],
      "text/plain": [
       "   duration  protocol_type  service  flag  src_bytes  dst_bytes  land  \\\n",
       "0         0              0       20     2        491          0     0   \n",
       "1         0              2       45     2        146          0     0   \n",
       "2         0              0       50     4          0          0     0   \n",
       "3         0              0       25     2        232       8153     0   \n",
       "4         0              0       25     2        199        420     0   \n",
       "\n",
       "   wrong_fragment  urgent  hot  ...  dst_host_count  dst_host_srv_count  \\\n",
       "0               0       0    0  ...             150                  25   \n",
       "1               0       0    0  ...             255                   1   \n",
       "2               0       0    0  ...             255                  26   \n",
       "3               0       0    0  ...              30                 255   \n",
       "4               0       0    0  ...             255                 255   \n",
       "\n",
       "   dst_host_same_srv_rate  dst_host_diff_srv_rate  \\\n",
       "0                    0.17                    0.03   \n",
       "1                    0.00                    0.60   \n",
       "2                    0.10                    0.05   \n",
       "3                    1.00                    0.00   \n",
       "4                    1.00                    0.00   \n",
       "\n",
       "   dst_host_same_src_port_rate  dst_host_srv_diff_host_rate  \\\n",
       "0                         0.17                         0.00   \n",
       "1                         0.88                         0.00   \n",
       "2                         0.00                         0.00   \n",
       "3                         0.03                         0.04   \n",
       "4                         0.00                         0.00   \n",
       "\n",
       "   dst_host_serror_rate  dst_host_srv_serror_rate  dst_host_rerror_rate  \\\n",
       "0                  0.00                      0.00                  0.05   \n",
       "1                  0.00                      0.00                  0.00   \n",
       "2                  1.00                      1.00                  0.00   \n",
       "3                  0.03                      0.01                  0.00   \n",
       "4                  0.00                      0.00                  0.00   \n",
       "\n",
       "   dst_host_srv_rerror_rate  \n",
       "0                      0.00  \n",
       "1                      0.00  \n",
       "2                      0.00  \n",
       "3                      0.01  \n",
       "4                      0.00  \n",
       "\n",
       "[5 rows x 41 columns]"
      ]
     },
     "execution_count": 8,
     "metadata": {},
     "output_type": "execute_result"
    }
   ],
   "source": [
    "X_train['protocol_type'] = le.fit_transform(X_train['protocol_type'])\n",
    "# enc.fit_transform(X_train['protocol_type'])\n",
    "\n",
    "X_test['protocol_type'] = le.fit_transform(X_test['protocol_type'])\n",
    "# enc.fit_transform(X_test['protocol_type'])\n",
    "\n",
    "X_train.head()"
   ]
  },
  {
   "cell_type": "markdown",
   "metadata": {
    "_cell_guid": "165c6f9f-0e10-49e5-90f6-0be9d69fd907",
    "_uuid": "a2ed1559ce7d786d5fe0b1a088872bbf688dd1de"
   },
   "source": [
    "- Y LabelBinarizer"
   ]
  },
  {
   "cell_type": "code",
   "execution_count": 9,
   "metadata": {
    "_cell_guid": "81579637-fd13-4f26-be25-bc4add67fd9b",
    "_uuid": "40c2c9b5a73c6c014eb9abc889b6cdfdd5798a83"
   },
   "outputs": [
    {
     "data": {
      "text/html": [
       "<div>\n",
       "<style scoped>\n",
       "    .dataframe tbody tr th:only-of-type {\n",
       "        vertical-align: middle;\n",
       "    }\n",
       "\n",
       "    .dataframe tbody tr th {\n",
       "        vertical-align: top;\n",
       "    }\n",
       "\n",
       "    .dataframe thead th {\n",
       "        text-align: right;\n",
       "    }\n",
       "</style>\n",
       "<table border=\"1\" class=\"dataframe\">\n",
       "  <thead>\n",
       "    <tr style=\"text-align: right;\">\n",
       "      <th></th>\n",
       "      <th>xAttack</th>\n",
       "    </tr>\n",
       "  </thead>\n",
       "  <tbody>\n",
       "    <tr>\n",
       "      <th>count</th>\n",
       "      <td>125973.000000</td>\n",
       "    </tr>\n",
       "    <tr>\n",
       "      <th>mean</th>\n",
       "      <td>0.744985</td>\n",
       "    </tr>\n",
       "    <tr>\n",
       "      <th>std</th>\n",
       "      <td>0.653748</td>\n",
       "    </tr>\n",
       "    <tr>\n",
       "      <th>min</th>\n",
       "      <td>0.000000</td>\n",
       "    </tr>\n",
       "    <tr>\n",
       "      <th>25%</th>\n",
       "      <td>0.000000</td>\n",
       "    </tr>\n",
       "    <tr>\n",
       "      <th>50%</th>\n",
       "      <td>1.000000</td>\n",
       "    </tr>\n",
       "    <tr>\n",
       "      <th>75%</th>\n",
       "      <td>1.000000</td>\n",
       "    </tr>\n",
       "    <tr>\n",
       "      <th>max</th>\n",
       "      <td>4.000000</td>\n",
       "    </tr>\n",
       "  </tbody>\n",
       "</table>\n",
       "</div>"
      ],
      "text/plain": [
       "             xAttack\n",
       "count  125973.000000\n",
       "mean        0.744985\n",
       "std         0.653748\n",
       "min         0.000000\n",
       "25%         0.000000\n",
       "50%         1.000000\n",
       "75%         1.000000\n",
       "max         4.000000"
      ]
     },
     "execution_count": 9,
     "metadata": {},
     "output_type": "execute_result"
    }
   ],
   "source": [
    "Y_train['xAttack'] = le.fit_transform(Y_train['xAttack'])\n",
    "lb.fit_transform(Y_train['xAttack'])\n",
    "\n",
    "Y_test['xAttack'] = le.fit_transform(Y_test['xAttack'])\n",
    "lb.fit_transform(Y_test['xAttack'])\n",
    "\n",
    "Y_train.describe()"
   ]
  },
  {
   "cell_type": "markdown",
   "metadata": {
    "_cell_guid": "a01dff4a-5413-4111-be29-053ebbd939c1",
    "_uuid": "39744b8a0505221bf7f9eda3f3a90858be748be0"
   },
   "source": [
    "### 1. Standard deviation\n",
    "    "
   ]
  },
  {
   "cell_type": "code",
   "execution_count": 10,
   "metadata": {
    "_cell_guid": "b2bd6692-0d3a-41c4-a270-1ea0cbee38a1",
    "_uuid": "f20d04d85758220bc28114b389dfaabf304a6171"
   },
   "outputs": [
    {
     "data": {
      "text/html": [
       "<div>\n",
       "<style scoped>\n",
       "    .dataframe tbody tr th:only-of-type {\n",
       "        vertical-align: middle;\n",
       "    }\n",
       "\n",
       "    .dataframe tbody tr th {\n",
       "        vertical-align: top;\n",
       "    }\n",
       "\n",
       "    .dataframe thead th {\n",
       "        text-align: right;\n",
       "    }\n",
       "</style>\n",
       "<table border=\"1\" class=\"dataframe\">\n",
       "  <thead>\n",
       "    <tr style=\"text-align: right;\">\n",
       "      <th></th>\n",
       "      <th>0</th>\n",
       "    </tr>\n",
       "  </thead>\n",
       "  <tbody>\n",
       "    <tr>\n",
       "      <th>num_outbound_cmds</th>\n",
       "      <td>0.000000</td>\n",
       "    </tr>\n",
       "    <tr>\n",
       "      <th>urgent</th>\n",
       "      <td>0.014366</td>\n",
       "    </tr>\n",
       "    <tr>\n",
       "      <th>num_shells</th>\n",
       "      <td>0.022181</td>\n",
       "    </tr>\n",
       "    <tr>\n",
       "      <th>root_shell</th>\n",
       "      <td>0.036603</td>\n",
       "    </tr>\n",
       "    <tr>\n",
       "      <th>num_failed_logins</th>\n",
       "      <td>0.045239</td>\n",
       "    </tr>\n",
       "    <tr>\n",
       "      <th>num_access_files</th>\n",
       "      <td>0.099370</td>\n",
       "    </tr>\n",
       "    <tr>\n",
       "      <th>dst_host_srv_diff_host_rate</th>\n",
       "      <td>0.112564</td>\n",
       "    </tr>\n",
       "    <tr>\n",
       "      <th>diff_srv_rate</th>\n",
       "      <td>0.180314</td>\n",
       "    </tr>\n",
       "    <tr>\n",
       "      <th>dst_host_diff_srv_rate</th>\n",
       "      <td>0.188922</td>\n",
       "    </tr>\n",
       "    <tr>\n",
       "      <th>wrong_fragment</th>\n",
       "      <td>0.253530</td>\n",
       "    </tr>\n",
       "  </tbody>\n",
       "</table>\n",
       "</div>"
      ],
      "text/plain": [
       "                                    0\n",
       "num_outbound_cmds            0.000000\n",
       "urgent                       0.014366\n",
       "num_shells                   0.022181\n",
       "root_shell                   0.036603\n",
       "num_failed_logins            0.045239\n",
       "num_access_files             0.099370\n",
       "dst_host_srv_diff_host_rate  0.112564\n",
       "diff_srv_rate                0.180314\n",
       "dst_host_diff_srv_rate       0.188922\n",
       "wrong_fragment               0.253530"
      ]
     },
     "execution_count": 10,
     "metadata": {},
     "output_type": "execute_result"
    }
   ],
   "source": [
    "#except continuous feature\n",
    "con_list = ['protocol_type', 'service', 'flag', 'land', 'logged_in', 'su_attempted', 'is_host_login', 'is_guest_login']\n",
    "con_train = X_train.drop(con_list, axis=1)\n",
    "\n",
    "#drop n smallest std features\n",
    "stdtrain = con_train.std(axis=0)\n",
    "std_X_train = stdtrain.to_frame()\n",
    "std_X_train.nsmallest(10, columns=0).head(10)"
   ]
  },
  {
   "cell_type": "markdown",
   "metadata": {
    "_cell_guid": "d6fcbd56-1683-4a97-97fc-fc5de423a3a5",
    "_uuid": "28970ee3fa8c613b2c065674483d0de465bffbbc"
   },
   "source": [
    " "
   ]
  },
  {
   "cell_type": "markdown",
   "metadata": {
    "_cell_guid": "89f0397c-71c3-49ab-8322-e761dd250e5c",
    "_uuid": "5f60d8d834b4c5ac67da3cf58c4a8433a3362a47"
   },
   "source": [
    "#### num_outbound_cmds  standard deviation."
   ]
  },
  {
   "cell_type": "code",
   "execution_count": 11,
   "metadata": {
    "_cell_guid": "cad79de8-8cb0-4afc-b4dc-19a63487dbfd",
    "_uuid": "b12365a86a883362a443fbbf50bb1bae05fc1831"
   },
   "outputs": [
    {
     "data": {
      "text/html": [
       "<div>\n",
       "<style scoped>\n",
       "    .dataframe tbody tr th:only-of-type {\n",
       "        vertical-align: middle;\n",
       "    }\n",
       "\n",
       "    .dataframe tbody tr th {\n",
       "        vertical-align: top;\n",
       "    }\n",
       "\n",
       "    .dataframe thead th {\n",
       "        text-align: right;\n",
       "    }\n",
       "</style>\n",
       "<table border=\"1\" class=\"dataframe\">\n",
       "  <thead>\n",
       "    <tr style=\"text-align: right;\">\n",
       "      <th></th>\n",
       "      <th>duration</th>\n",
       "      <th>protocol_type</th>\n",
       "      <th>service</th>\n",
       "      <th>flag</th>\n",
       "      <th>src_bytes</th>\n",
       "      <th>dst_bytes</th>\n",
       "      <th>land</th>\n",
       "      <th>wrong_fragment</th>\n",
       "      <th>urgent</th>\n",
       "      <th>hot</th>\n",
       "      <th>...</th>\n",
       "      <th>dst_host_count</th>\n",
       "      <th>dst_host_srv_count</th>\n",
       "      <th>dst_host_same_srv_rate</th>\n",
       "      <th>dst_host_diff_srv_rate</th>\n",
       "      <th>dst_host_same_src_port_rate</th>\n",
       "      <th>dst_host_srv_diff_host_rate</th>\n",
       "      <th>dst_host_serror_rate</th>\n",
       "      <th>dst_host_srv_serror_rate</th>\n",
       "      <th>dst_host_rerror_rate</th>\n",
       "      <th>dst_host_srv_rerror_rate</th>\n",
       "    </tr>\n",
       "  </thead>\n",
       "  <tbody>\n",
       "    <tr>\n",
       "      <th>0</th>\n",
       "      <td>0</td>\n",
       "      <td>0</td>\n",
       "      <td>20</td>\n",
       "      <td>2</td>\n",
       "      <td>491</td>\n",
       "      <td>0</td>\n",
       "      <td>0</td>\n",
       "      <td>0</td>\n",
       "      <td>0</td>\n",
       "      <td>0</td>\n",
       "      <td>...</td>\n",
       "      <td>150</td>\n",
       "      <td>25</td>\n",
       "      <td>0.17</td>\n",
       "      <td>0.03</td>\n",
       "      <td>0.17</td>\n",
       "      <td>0.00</td>\n",
       "      <td>0.00</td>\n",
       "      <td>0.00</td>\n",
       "      <td>0.05</td>\n",
       "      <td>0.00</td>\n",
       "    </tr>\n",
       "    <tr>\n",
       "      <th>1</th>\n",
       "      <td>0</td>\n",
       "      <td>2</td>\n",
       "      <td>45</td>\n",
       "      <td>2</td>\n",
       "      <td>146</td>\n",
       "      <td>0</td>\n",
       "      <td>0</td>\n",
       "      <td>0</td>\n",
       "      <td>0</td>\n",
       "      <td>0</td>\n",
       "      <td>...</td>\n",
       "      <td>255</td>\n",
       "      <td>1</td>\n",
       "      <td>0.00</td>\n",
       "      <td>0.60</td>\n",
       "      <td>0.88</td>\n",
       "      <td>0.00</td>\n",
       "      <td>0.00</td>\n",
       "      <td>0.00</td>\n",
       "      <td>0.00</td>\n",
       "      <td>0.00</td>\n",
       "    </tr>\n",
       "    <tr>\n",
       "      <th>2</th>\n",
       "      <td>0</td>\n",
       "      <td>0</td>\n",
       "      <td>50</td>\n",
       "      <td>4</td>\n",
       "      <td>0</td>\n",
       "      <td>0</td>\n",
       "      <td>0</td>\n",
       "      <td>0</td>\n",
       "      <td>0</td>\n",
       "      <td>0</td>\n",
       "      <td>...</td>\n",
       "      <td>255</td>\n",
       "      <td>26</td>\n",
       "      <td>0.10</td>\n",
       "      <td>0.05</td>\n",
       "      <td>0.00</td>\n",
       "      <td>0.00</td>\n",
       "      <td>1.00</td>\n",
       "      <td>1.00</td>\n",
       "      <td>0.00</td>\n",
       "      <td>0.00</td>\n",
       "    </tr>\n",
       "    <tr>\n",
       "      <th>3</th>\n",
       "      <td>0</td>\n",
       "      <td>0</td>\n",
       "      <td>25</td>\n",
       "      <td>2</td>\n",
       "      <td>232</td>\n",
       "      <td>8153</td>\n",
       "      <td>0</td>\n",
       "      <td>0</td>\n",
       "      <td>0</td>\n",
       "      <td>0</td>\n",
       "      <td>...</td>\n",
       "      <td>30</td>\n",
       "      <td>255</td>\n",
       "      <td>1.00</td>\n",
       "      <td>0.00</td>\n",
       "      <td>0.03</td>\n",
       "      <td>0.04</td>\n",
       "      <td>0.03</td>\n",
       "      <td>0.01</td>\n",
       "      <td>0.00</td>\n",
       "      <td>0.01</td>\n",
       "    </tr>\n",
       "    <tr>\n",
       "      <th>4</th>\n",
       "      <td>0</td>\n",
       "      <td>0</td>\n",
       "      <td>25</td>\n",
       "      <td>2</td>\n",
       "      <td>199</td>\n",
       "      <td>420</td>\n",
       "      <td>0</td>\n",
       "      <td>0</td>\n",
       "      <td>0</td>\n",
       "      <td>0</td>\n",
       "      <td>...</td>\n",
       "      <td>255</td>\n",
       "      <td>255</td>\n",
       "      <td>1.00</td>\n",
       "      <td>0.00</td>\n",
       "      <td>0.00</td>\n",
       "      <td>0.00</td>\n",
       "      <td>0.00</td>\n",
       "      <td>0.00</td>\n",
       "      <td>0.00</td>\n",
       "      <td>0.00</td>\n",
       "    </tr>\n",
       "  </tbody>\n",
       "</table>\n",
       "<p>5 rows × 40 columns</p>\n",
       "</div>"
      ],
      "text/plain": [
       "   duration  protocol_type  service  flag  src_bytes  dst_bytes  land  \\\n",
       "0         0              0       20     2        491          0     0   \n",
       "1         0              2       45     2        146          0     0   \n",
       "2         0              0       50     4          0          0     0   \n",
       "3         0              0       25     2        232       8153     0   \n",
       "4         0              0       25     2        199        420     0   \n",
       "\n",
       "   wrong_fragment  urgent  hot  ...  dst_host_count  dst_host_srv_count  \\\n",
       "0               0       0    0  ...             150                  25   \n",
       "1               0       0    0  ...             255                   1   \n",
       "2               0       0    0  ...             255                  26   \n",
       "3               0       0    0  ...              30                 255   \n",
       "4               0       0    0  ...             255                 255   \n",
       "\n",
       "   dst_host_same_srv_rate  dst_host_diff_srv_rate  \\\n",
       "0                    0.17                    0.03   \n",
       "1                    0.00                    0.60   \n",
       "2                    0.10                    0.05   \n",
       "3                    1.00                    0.00   \n",
       "4                    1.00                    0.00   \n",
       "\n",
       "   dst_host_same_src_port_rate  dst_host_srv_diff_host_rate  \\\n",
       "0                         0.17                         0.00   \n",
       "1                         0.88                         0.00   \n",
       "2                         0.00                         0.00   \n",
       "3                         0.03                         0.04   \n",
       "4                         0.00                         0.00   \n",
       "\n",
       "   dst_host_serror_rate  dst_host_srv_serror_rate  dst_host_rerror_rate  \\\n",
       "0                  0.00                      0.00                  0.05   \n",
       "1                  0.00                      0.00                  0.00   \n",
       "2                  1.00                      1.00                  0.00   \n",
       "3                  0.03                      0.01                  0.00   \n",
       "4                  0.00                      0.00                  0.00   \n",
       "\n",
       "   dst_host_srv_rerror_rate  \n",
       "0                      0.00  \n",
       "1                      0.00  \n",
       "2                      0.00  \n",
       "3                      0.01  \n",
       "4                      0.00  \n",
       "\n",
       "[5 rows x 40 columns]"
      ]
     },
     "execution_count": 11,
     "metadata": {},
     "output_type": "execute_result"
    }
   ],
   "source": [
    "X_train = X_train.drop(['num_outbound_cmds'], axis=1)\n",
    "X_test = X_test.drop(['num_outbound_cmds'], axis=1)\n",
    "\n",
    "df_train = pd.concat([X_train, Y_train], axis=1)\n",
    "df_train.head()\n",
    "\n",
    "X_train.head()"
   ]
  },
  {
   "cell_type": "markdown",
   "metadata": {
    "_cell_guid": "0ae413eb-04f4-411c-8779-63ce346e5445",
    "_uuid": "de438268e23aa121bb31424d42c00f150d7db5b5"
   },
   "source": [
    "####  feature drop -> X_train_stdrop. (Ensemble feature selection)"
   ]
  },
  {
   "cell_type": "code",
   "execution_count": 12,
   "metadata": {
    "_cell_guid": "b5910eb2-a2f0-48d2-8dbe-bc79060b5723",
    "_uuid": "d354b008daa466e55e63cc75727720bb0c2e2510",
    "scrolled": true
   },
   "outputs": [
    {
     "data": {
      "text/html": [
       "<div>\n",
       "<style scoped>\n",
       "    .dataframe tbody tr th:only-of-type {\n",
       "        vertical-align: middle;\n",
       "    }\n",
       "\n",
       "    .dataframe tbody tr th {\n",
       "        vertical-align: top;\n",
       "    }\n",
       "\n",
       "    .dataframe thead th {\n",
       "        text-align: right;\n",
       "    }\n",
       "</style>\n",
       "<table border=\"1\" class=\"dataframe\">\n",
       "  <thead>\n",
       "    <tr style=\"text-align: right;\">\n",
       "      <th></th>\n",
       "      <th>duration</th>\n",
       "      <th>protocol_type</th>\n",
       "      <th>service</th>\n",
       "      <th>flag</th>\n",
       "      <th>src_bytes</th>\n",
       "      <th>dst_bytes</th>\n",
       "      <th>land</th>\n",
       "      <th>hot</th>\n",
       "      <th>logged_in</th>\n",
       "      <th>num_compromised</th>\n",
       "      <th>...</th>\n",
       "      <th>srv_diff_host_rate</th>\n",
       "      <th>dst_host_count</th>\n",
       "      <th>dst_host_srv_count</th>\n",
       "      <th>dst_host_same_srv_rate</th>\n",
       "      <th>dst_host_same_src_port_rate</th>\n",
       "      <th>dst_host_serror_rate</th>\n",
       "      <th>dst_host_srv_serror_rate</th>\n",
       "      <th>dst_host_rerror_rate</th>\n",
       "      <th>dst_host_srv_rerror_rate</th>\n",
       "      <th>xAttack</th>\n",
       "    </tr>\n",
       "  </thead>\n",
       "  <tbody>\n",
       "    <tr>\n",
       "      <th>0</th>\n",
       "      <td>0</td>\n",
       "      <td>0</td>\n",
       "      <td>20</td>\n",
       "      <td>2</td>\n",
       "      <td>491</td>\n",
       "      <td>0</td>\n",
       "      <td>0</td>\n",
       "      <td>0</td>\n",
       "      <td>0</td>\n",
       "      <td>0</td>\n",
       "      <td>...</td>\n",
       "      <td>0.00</td>\n",
       "      <td>150</td>\n",
       "      <td>25</td>\n",
       "      <td>0.17</td>\n",
       "      <td>0.17</td>\n",
       "      <td>0.00</td>\n",
       "      <td>0.00</td>\n",
       "      <td>0.05</td>\n",
       "      <td>0.00</td>\n",
       "      <td>1</td>\n",
       "    </tr>\n",
       "    <tr>\n",
       "      <th>1</th>\n",
       "      <td>0</td>\n",
       "      <td>2</td>\n",
       "      <td>45</td>\n",
       "      <td>2</td>\n",
       "      <td>146</td>\n",
       "      <td>0</td>\n",
       "      <td>0</td>\n",
       "      <td>0</td>\n",
       "      <td>0</td>\n",
       "      <td>0</td>\n",
       "      <td>...</td>\n",
       "      <td>0.00</td>\n",
       "      <td>255</td>\n",
       "      <td>1</td>\n",
       "      <td>0.00</td>\n",
       "      <td>0.88</td>\n",
       "      <td>0.00</td>\n",
       "      <td>0.00</td>\n",
       "      <td>0.00</td>\n",
       "      <td>0.00</td>\n",
       "      <td>1</td>\n",
       "    </tr>\n",
       "    <tr>\n",
       "      <th>2</th>\n",
       "      <td>0</td>\n",
       "      <td>0</td>\n",
       "      <td>50</td>\n",
       "      <td>4</td>\n",
       "      <td>0</td>\n",
       "      <td>0</td>\n",
       "      <td>0</td>\n",
       "      <td>0</td>\n",
       "      <td>0</td>\n",
       "      <td>0</td>\n",
       "      <td>...</td>\n",
       "      <td>0.00</td>\n",
       "      <td>255</td>\n",
       "      <td>26</td>\n",
       "      <td>0.10</td>\n",
       "      <td>0.00</td>\n",
       "      <td>1.00</td>\n",
       "      <td>1.00</td>\n",
       "      <td>0.00</td>\n",
       "      <td>0.00</td>\n",
       "      <td>0</td>\n",
       "    </tr>\n",
       "    <tr>\n",
       "      <th>3</th>\n",
       "      <td>0</td>\n",
       "      <td>0</td>\n",
       "      <td>25</td>\n",
       "      <td>2</td>\n",
       "      <td>232</td>\n",
       "      <td>8153</td>\n",
       "      <td>0</td>\n",
       "      <td>0</td>\n",
       "      <td>1</td>\n",
       "      <td>0</td>\n",
       "      <td>...</td>\n",
       "      <td>0.00</td>\n",
       "      <td>30</td>\n",
       "      <td>255</td>\n",
       "      <td>1.00</td>\n",
       "      <td>0.03</td>\n",
       "      <td>0.03</td>\n",
       "      <td>0.01</td>\n",
       "      <td>0.00</td>\n",
       "      <td>0.01</td>\n",
       "      <td>1</td>\n",
       "    </tr>\n",
       "    <tr>\n",
       "      <th>4</th>\n",
       "      <td>0</td>\n",
       "      <td>0</td>\n",
       "      <td>25</td>\n",
       "      <td>2</td>\n",
       "      <td>199</td>\n",
       "      <td>420</td>\n",
       "      <td>0</td>\n",
       "      <td>0</td>\n",
       "      <td>1</td>\n",
       "      <td>0</td>\n",
       "      <td>...</td>\n",
       "      <td>0.09</td>\n",
       "      <td>255</td>\n",
       "      <td>255</td>\n",
       "      <td>1.00</td>\n",
       "      <td>0.00</td>\n",
       "      <td>0.00</td>\n",
       "      <td>0.00</td>\n",
       "      <td>0.00</td>\n",
       "      <td>0.00</td>\n",
       "      <td>1</td>\n",
       "    </tr>\n",
       "  </tbody>\n",
       "</table>\n",
       "<p>5 rows × 32 columns</p>\n",
       "</div>"
      ],
      "text/plain": [
       "   duration  protocol_type  service  flag  src_bytes  dst_bytes  land  hot  \\\n",
       "0         0              0       20     2        491          0     0    0   \n",
       "1         0              2       45     2        146          0     0    0   \n",
       "2         0              0       50     4          0          0     0    0   \n",
       "3         0              0       25     2        232       8153     0    0   \n",
       "4         0              0       25     2        199        420     0    0   \n",
       "\n",
       "   logged_in  num_compromised  ...  srv_diff_host_rate  dst_host_count  \\\n",
       "0          0                0  ...                0.00             150   \n",
       "1          0                0  ...                0.00             255   \n",
       "2          0                0  ...                0.00             255   \n",
       "3          1                0  ...                0.00              30   \n",
       "4          1                0  ...                0.09             255   \n",
       "\n",
       "   dst_host_srv_count  dst_host_same_srv_rate  dst_host_same_src_port_rate  \\\n",
       "0                  25                    0.17                         0.17   \n",
       "1                   1                    0.00                         0.88   \n",
       "2                  26                    0.10                         0.00   \n",
       "3                 255                    1.00                         0.03   \n",
       "4                 255                    1.00                         0.00   \n",
       "\n",
       "   dst_host_serror_rate  dst_host_srv_serror_rate  dst_host_rerror_rate  \\\n",
       "0                  0.00                      0.00                  0.05   \n",
       "1                  0.00                      0.00                  0.00   \n",
       "2                  1.00                      1.00                  0.00   \n",
       "3                  0.03                      0.01                  0.00   \n",
       "4                  0.00                      0.00                  0.00   \n",
       "\n",
       "   dst_host_srv_rerror_rate  xAttack  \n",
       "0                      0.00        1  \n",
       "1                      0.00        1  \n",
       "2                      0.00        0  \n",
       "3                      0.01        1  \n",
       "4                      0.00        1  \n",
       "\n",
       "[5 rows x 32 columns]"
      ]
     },
     "execution_count": 12,
     "metadata": {},
     "output_type": "execute_result"
    }
   ],
   "source": [
    "stdrop_list = ['urgent', 'num_shells', 'root_shell',\n",
    "        'num_failed_logins', 'num_access_files', 'dst_host_srv_diff_host_rate',\n",
    "        'diff_srv_rate', 'dst_host_diff_srv_rate', 'wrong_fragment']\n",
    "\n",
    "X_test_stdrop = X_test.drop(stdrop_list, axis=1)\n",
    "\n",
    "X_train_stdrop = X_train.drop(stdrop_list, axis=1)\n",
    "\n",
    "df_train_stdrop = pd.concat([X_train_stdrop, Y_train], axis=1)\n",
    "\n",
    "df_train_stdrop.head()"
   ]
  },
  {
   "cell_type": "markdown",
   "metadata": {
    "_cell_guid": "fca47cc0-28fa-4b41-b531-a5057d7024ed",
    "_uuid": "7c7885fed49a0aba2a2851391b12160496114f86"
   },
   "source": [
    " "
   ]
  },
  {
   "cell_type": "markdown",
   "metadata": {
    "_cell_guid": "64e8bea6-8bc6-44f5-8df5-e21adb131bc3",
    "_uuid": "2ebed4ad2c428097ef11fe1a82678e631291dace"
   },
   "source": [
    "  "
   ]
  },
  {
   "cell_type": "markdown",
   "metadata": {
    "_cell_guid": "2f3b3e66-a2bf-4339-916c-fc2d36aa8893",
    "_uuid": "0ba8a51a9459b8611d2987dc7bd401bde3e17520"
   },
   "source": [
    "### 2. Ensemble feature selection\n",
    "   "
   ]
  },
  {
   "cell_type": "code",
   "execution_count": 47,
   "metadata": {
    "_cell_guid": "87393777-760d-46ef-953a-3907d983f5c7",
    "_uuid": "841c09d39671098d22423f7db1277a0842e4f223"
   },
   "outputs": [],
   "source": [
    "from sklearn.ensemble import GradientBoostingClassifier\n",
    "from sklearn.ensemble import RandomForestClassifier\n",
    "from sklearn.tree import DecisionTreeClassifier"
   ]
  },
  {
   "cell_type": "code",
   "execution_count": 48,
   "metadata": {
    "_cell_guid": "dc0750ec-89bc-4848-92c2-bfab118cd616",
    "_uuid": "d2302e128c80fec4a89f6289464aec7574127f2f"
   },
   "outputs": [],
   "source": [
    "GB = GradientBoostingClassifier(loss='deviance', learning_rate=0.1, n_estimators=200, max_features='auto')\n",
    "RF = RandomForestClassifier(n_estimators=10, criterion='entropy', max_features='auto', bootstrap=True)\n",
    "DT = DecisionTreeClassifier(random_state=42)"
   ]
  },
  {
   "cell_type": "code",
   "execution_count": 49,
   "metadata": {
    "_cell_guid": "662c7500-15c9-4d64-a98d-1539e1884837",
    "_uuid": "c863818c7db7bda6bd46862a56bdd973faf7b852"
   },
   "outputs": [],
   "source": [
    "y_train = Y_train['xAttack'].ravel()\n",
    "x_train = X_train.values\n",
    "x_test = X_test.values"
   ]
  },
  {
   "cell_type": "markdown",
   "metadata": {
    "_cell_guid": "5bf64821-e1cb-4566-bd21-47b40fe5049d",
    "_uuid": "99a62ea1400e32f8f954f8aa2d199a16c4c5e66d"
   },
   "source": [
    "### feature importances."
   ]
  },
  {
   "cell_type": "code",
   "execution_count": 51,
   "metadata": {
    "_cell_guid": "600860d2-fd41-44b5-a925-608383918cc7",
    "_uuid": "185f7b04f0d6969b7f7fd93ed791d1c07430864d"
   },
   "outputs": [
    {
     "data": {
      "text/plain": [
       "RandomForestClassifier(criterion='entropy', n_estimators=10)"
      ]
     },
     "execution_count": 51,
     "metadata": {},
     "output_type": "execute_result"
    }
   ],
   "source": [
    "RF.fit(X_train, Y_train)"
   ]
  },
  {
   "cell_type": "code",
   "execution_count": 52,
   "metadata": {
    "_cell_guid": "c91d81f6-ffa2-40e9-bcfc-c1e47dd7f059",
    "_uuid": "a94eba48c02912eea57bddab2911538a5eb6744c"
   },
   "outputs": [
    {
     "name": "stdout",
     "output_type": "stream",
     "text": [
      "RandomForestClassifier processing ,,,\n",
      "RandomForestClassifier Score: 0.767 %\n"
     ]
    }
   ],
   "source": [
    "RF_feature = RF.feature_importances_\n",
    "RF_feature\n",
    "\n",
    "rf_score = RF.score(X_test, Y_test)\n",
    "\n",
    "print('RandomForestClassifier processing ,,,')\n",
    "print('RandomForestClassifier Score: %.3f %%' % rf_score)"
   ]
  },
  {
   "cell_type": "code",
   "execution_count": 53,
   "metadata": {
    "_cell_guid": "a64f7edf-0090-452f-bc09-c5b10d1758e5",
    "_uuid": "92dd5f4652338ea01067bd588049c4de29b38b06"
   },
   "outputs": [
    {
     "data": {
      "text/plain": [
       "GradientBoostingClassifier(max_features='auto', n_estimators=200)"
      ]
     },
     "execution_count": 53,
     "metadata": {},
     "output_type": "execute_result"
    }
   ],
   "source": [
    "GB.fit(X_train, Y_train)"
   ]
  },
  {
   "cell_type": "code",
   "execution_count": 54,
   "metadata": {
    "_cell_guid": "47ce98f8-4fd0-4b0f-a355-84f170ee293a",
    "_uuid": "2522e18edc1332f9383550d66ca4385f8f6254ac"
   },
   "outputs": [
    {
     "name": "stdout",
     "output_type": "stream",
     "text": [
      "GradientBoostingClassifier processing ,,,\n",
      "GradientBoostingClassifier Score: 0.767 %\n"
     ]
    }
   ],
   "source": [
    "GB_feature = GB.feature_importances_\n",
    "GB_feature\n",
    "\n",
    "gb_score = GB.score(X_test, Y_test)\n",
    "\n",
    "print('GradientBoostingClassifier processing ,,,')\n",
    "print('GradientBoostingClassifier Score: %.3f %%' % gb_score)"
   ]
  },
  {
   "cell_type": "code",
   "execution_count": 55,
   "metadata": {
    "_cell_guid": "6afa8afd-9e8b-443d-aa04-ee9e46a61026",
    "_uuid": "66d759d3d00af2e028306a832ef2b65a3b92ae97"
   },
   "outputs": [
    {
     "data": {
      "text/plain": [
       "DecisionTreeClassifier(random_state=42)"
      ]
     },
     "execution_count": 55,
     "metadata": {},
     "output_type": "execute_result"
    }
   ],
   "source": [
    "DT.fit(X_train, Y_train)"
   ]
  },
  {
   "cell_type": "code",
   "execution_count": 56,
   "metadata": {
    "_cell_guid": "9453484a-3364-4674-91ad-007cbcae9a82",
    "_uuid": "8bd2d89127cf14f1b2f7cfef20e9d7c0154d9c08"
   },
   "outputs": [
    {
     "name": "stdout",
     "output_type": "stream",
     "text": [
      "DecisionTreeClassifier processing ,,,\n",
      "DecisonTreeClassifier: 0.764 %\n"
     ]
    }
   ],
   "source": [
    "DT_feature = DT.feature_importances_\n",
    "DT_feature\n",
    "\n",
    "dt_score = DT.score(X_test, Y_test)\n",
    "\n",
    "print('DecisionTreeClassifier processing ,,,')\n",
    "print('DecisonTreeClassifier: %.3f %%' % dt_score)"
   ]
  },
  {
   "cell_type": "code",
   "execution_count": null,
   "metadata": {
    "_cell_guid": "7807d34a-9a2a-4d83-8685-d90c893c06a2",
    "_uuid": "96410fef5c90a6d2a23154e588bf1b81d362e816"
   },
   "outputs": [],
   "source": []
  },
  {
   "cell_type": "code",
   "execution_count": null,
   "metadata": {
    "_cell_guid": "89511522-d2b9-4bed-ba12-163f4b9aae1f",
    "_uuid": "1db270130b8d0a6ccf918ffd4c2857ff85e3a144"
   },
   "outputs": [],
   "source": []
  },
  {
   "cell_type": "markdown",
   "metadata": {
    "_cell_guid": "ba855d1d-6ec7-41fd-8be0-273dabf7d97d",
    "_uuid": "e4d1ca5200a2f5c2fda8d0498d1a7b29b6750fb4"
   },
   "source": [
    " "
   ]
  },
  {
   "cell_type": "markdown",
   "metadata": {
    "_cell_guid": "967900a5-7fb5-45c5-b80c-c22be7ae7779",
    "_uuid": "9ab6285272ed790dad07e88643e6b64d8fbf1b8b"
   },
   "source": [
    " "
   ]
  },
  {
   "cell_type": "markdown",
   "metadata": {
    "_cell_guid": "38dafed5-3f47-4dcc-ab97-7d3faff4a631",
    "_uuid": "4b25db45c88fc8927c1dbe753f0515095da51a0f"
   },
   "source": [
    "### Ensemble feature"
   ]
  },
  {
   "cell_type": "code",
   "execution_count": 61,
   "metadata": {
    "_cell_guid": "c06af718-3e5a-4439-9808-0eb0a9fa0c74",
    "_uuid": "3013e38f34f0671d6a9dee1041f566eec6abf989"
   },
   "outputs": [
    {
     "data": {
      "text/html": [
       "<div>\n",
       "<style scoped>\n",
       "    .dataframe tbody tr th:only-of-type {\n",
       "        vertical-align: middle;\n",
       "    }\n",
       "\n",
       "    .dataframe tbody tr th {\n",
       "        vertical-align: top;\n",
       "    }\n",
       "\n",
       "    .dataframe thead th {\n",
       "        text-align: right;\n",
       "    }\n",
       "</style>\n",
       "<table border=\"1\" class=\"dataframe\">\n",
       "  <thead>\n",
       "    <tr style=\"text-align: right;\">\n",
       "      <th></th>\n",
       "      <th>features</th>\n",
       "      <th>DecisionTree</th>\n",
       "      <th>RandomForest</th>\n",
       "      <th>GradientBoost</th>\n",
       "    </tr>\n",
       "  </thead>\n",
       "  <tbody>\n",
       "    <tr>\n",
       "      <th>0</th>\n",
       "      <td>duration</td>\n",
       "      <td>0.001217</td>\n",
       "      <td>0.003875</td>\n",
       "      <td>0.001521</td>\n",
       "    </tr>\n",
       "    <tr>\n",
       "      <th>1</th>\n",
       "      <td>protocol_type</td>\n",
       "      <td>0.000921</td>\n",
       "      <td>0.018776</td>\n",
       "      <td>0.011429</td>\n",
       "    </tr>\n",
       "    <tr>\n",
       "      <th>2</th>\n",
       "      <td>service</td>\n",
       "      <td>0.014988</td>\n",
       "      <td>0.036359</td>\n",
       "      <td>0.007802</td>\n",
       "    </tr>\n",
       "    <tr>\n",
       "      <th>3</th>\n",
       "      <td>flag</td>\n",
       "      <td>0.003327</td>\n",
       "      <td>0.017168</td>\n",
       "      <td>0.001157</td>\n",
       "    </tr>\n",
       "    <tr>\n",
       "      <th>4</th>\n",
       "      <td>src_bytes</td>\n",
       "      <td>0.540791</td>\n",
       "      <td>0.111110</td>\n",
       "      <td>0.361486</td>\n",
       "    </tr>\n",
       "    <tr>\n",
       "      <th>5</th>\n",
       "      <td>dst_bytes</td>\n",
       "      <td>0.011577</td>\n",
       "      <td>0.143488</td>\n",
       "      <td>0.062353</td>\n",
       "    </tr>\n",
       "    <tr>\n",
       "      <th>6</th>\n",
       "      <td>land</td>\n",
       "      <td>0.000440</td>\n",
       "      <td>0.000125</td>\n",
       "      <td>0.000036</td>\n",
       "    </tr>\n",
       "    <tr>\n",
       "      <th>7</th>\n",
       "      <td>wrong_fragment</td>\n",
       "      <td>0.003724</td>\n",
       "      <td>0.004597</td>\n",
       "      <td>0.013347</td>\n",
       "    </tr>\n",
       "  </tbody>\n",
       "</table>\n",
       "</div>"
      ],
      "text/plain": [
       "         features  DecisionTree  RandomForest  GradientBoost\n",
       "0        duration      0.001217      0.003875       0.001521\n",
       "1   protocol_type      0.000921      0.018776       0.011429\n",
       "2         service      0.014988      0.036359       0.007802\n",
       "3            flag      0.003327      0.017168       0.001157\n",
       "4       src_bytes      0.540791      0.111110       0.361486\n",
       "5       dst_bytes      0.011577      0.143488       0.062353\n",
       "6            land      0.000440      0.000125       0.000036\n",
       "7  wrong_fragment      0.003724      0.004597       0.013347"
      ]
     },
     "execution_count": 61,
     "metadata": {},
     "output_type": "execute_result"
    }
   ],
   "source": [
    "cols = X_train.columns.values\n",
    "\n",
    "feature_df = pd.DataFrame({'features': cols,\n",
    "                           'DecisionTree' : DT_feature,\n",
    "                           'RandomForest' : RF_feature,\n",
    "                           'GradientBoost' : GB_feature\n",
    "                          })\n",
    "feature_df.head(8)"
   ]
  },
  {
   "cell_type": "markdown",
   "metadata": {
    "_cell_guid": "a673d858-c84f-4d65-b21a-ecdbfb0242e7",
    "_uuid": "36c2ba8b67a39e470f8d65efe09a305115b56969"
   },
   "source": [
    "- Feature"
   ]
  },
  {
   "cell_type": "code",
   "execution_count": 62,
   "metadata": {
    "_cell_guid": "b85a5513-dae3-4bc2-8b78-9f8e6661c69f",
    "_uuid": "b5528668f63a93dc5469c218a88dff22bba4a4db"
   },
   "outputs": [
    {
     "data": {
      "text/plain": [
       "[Text(0, 0, 'duration'),\n",
       " Text(1, 0, 'protocol_type'),\n",
       " Text(2, 0, 'service'),\n",
       " Text(3, 0, 'flag'),\n",
       " Text(4, 0, 'src_bytes'),\n",
       " Text(5, 0, 'dst_bytes'),\n",
       " Text(6, 0, 'land'),\n",
       " Text(7, 0, 'wrong_fragment'),\n",
       " Text(8, 0, 'urgent'),\n",
       " Text(9, 0, 'hot'),\n",
       " Text(10, 0, 'num_failed_logins'),\n",
       " Text(11, 0, 'logged_in'),\n",
       " Text(12, 0, 'num_compromised'),\n",
       " Text(13, 0, 'root_shell'),\n",
       " Text(14, 0, 'su_attempted'),\n",
       " Text(15, 0, 'num_root'),\n",
       " Text(16, 0, 'num_file_creations'),\n",
       " Text(17, 0, 'num_shells'),\n",
       " Text(18, 0, 'num_access_files'),\n",
       " Text(19, 0, 'is_host_login'),\n",
       " Text(20, 0, 'is_guest_login'),\n",
       " Text(21, 0, 'count'),\n",
       " Text(22, 0, 'srv_count'),\n",
       " Text(23, 0, 'serror_rate'),\n",
       " Text(24, 0, 'srv_serror_rate'),\n",
       " Text(25, 0, 'rerror_rate'),\n",
       " Text(26, 0, 'srv_rerror_rate'),\n",
       " Text(27, 0, 'same_srv_rate'),\n",
       " Text(28, 0, 'diff_srv_rate'),\n",
       " Text(29, 0, 'srv_diff_host_rate'),\n",
       " Text(30, 0, 'dst_host_count'),\n",
       " Text(31, 0, 'dst_host_srv_count'),\n",
       " Text(32, 0, 'dst_host_same_srv_rate'),\n",
       " Text(33, 0, 'dst_host_diff_srv_rate'),\n",
       " Text(34, 0, 'dst_host_same_src_port_rate'),\n",
       " Text(35, 0, 'dst_host_srv_diff_host_rate'),\n",
       " Text(36, 0, 'dst_host_serror_rate'),\n",
       " Text(37, 0, 'dst_host_srv_serror_rate'),\n",
       " Text(38, 0, 'dst_host_rerror_rate'),\n",
       " Text(39, 0, 'dst_host_srv_rerror_rate')]"
      ]
     },
     "execution_count": 62,
     "metadata": {},
     "output_type": "execute_result"
    },
    {
     "data": {
      "image/png": "[encoded data removed]",
      "text/plain": [
       "<Figure size 1296x720 with 1 Axes>"
      ]
     },
     "metadata": {
      "needs_background": "light"
     },
     "output_type": "display_data"
    }
   ],
   "source": [
    "from matplotlib.ticker import MaxNLocator\n",
    "from collections import namedtuple\n",
    "\n",
    "graph = feature_df.plot.bar(figsize = (18, 10), title = 'Feature distribution', grid=True, legend=True, fontsize = 15, \n",
    "                            xticks=feature_df.index)\n",
    "graph.set_xticklabels(feature_df.features, rotation = 80)"
   ]
  },
  {
   "cell_type": "markdown",
   "metadata": {
    "_cell_guid": "abec513b-02cb-4d07-874e-12765db13f98",
    "_uuid": "3c472cd98a2601e78546275d5e18c9dfdd27c2a9"
   },
   "source": [
    "#### Ensemble mode feature"
   ]
  },
  {
   "cell_type": "code",
   "execution_count": 63,
   "metadata": {
    "_cell_guid": "2b861c0c-454e-4f85-b7db-a56fa8a9f4aa",
    "_uuid": "38b3e44e8794957e441561b28e9dda2e669501d5"
   },
   "outputs": [],
   "source": [
    "d_f = feature_df.nlargest(12, 'DecisionTree')\n",
    "g_f = feature_df.nlargest(12, 'GradientBoost')\n",
    "r_f = feature_df.nlargest(12, 'RandomForest')"
   ]
  },
  {
   "cell_type": "markdown",
   "metadata": {
    "_cell_guid": "d7fb1398-b03f-4b02-8186-60c58db2f9c4",
    "_uuid": "dfe107880c4b18d82062a6d068fdd5d40ec2cb81"
   },
   "source": [
    "duplicate"
   ]
  },
  {
   "cell_type": "code",
   "execution_count": 64,
   "metadata": {
    "_cell_guid": "9f203942-69bc-4af3-a607-c69a91f67a61",
    "_uuid": "25b3b9f96cd8dd0e3e5d1762136e922c2b5623ae",
    "scrolled": false
   },
   "outputs": [
    {
     "data": {
      "text/html": [
       "<div>\n",
       "<style scoped>\n",
       "    .dataframe tbody tr th:only-of-type {\n",
       "        vertical-align: middle;\n",
       "    }\n",
       "\n",
       "    .dataframe tbody tr th {\n",
       "        vertical-align: top;\n",
       "    }\n",
       "\n",
       "    .dataframe thead th {\n",
       "        text-align: right;\n",
       "    }\n",
       "</style>\n",
       "<table border=\"1\" class=\"dataframe\">\n",
       "  <thead>\n",
       "    <tr style=\"text-align: right;\">\n",
       "      <th></th>\n",
       "      <th>features</th>\n",
       "      <th>DecisionTree</th>\n",
       "      <th>RandomForest</th>\n",
       "      <th>GradientBoost</th>\n",
       "    </tr>\n",
       "  </thead>\n",
       "  <tbody>\n",
       "    <tr>\n",
       "      <th>4</th>\n",
       "      <td>src_bytes</td>\n",
       "      <td>0.540791</td>\n",
       "      <td>0.111110</td>\n",
       "      <td>0.361486</td>\n",
       "    </tr>\n",
       "    <tr>\n",
       "      <th>21</th>\n",
       "      <td>count</td>\n",
       "      <td>0.200063</td>\n",
       "      <td>0.030499</td>\n",
       "      <td>0.054403</td>\n",
       "    </tr>\n",
       "    <tr>\n",
       "      <th>33</th>\n",
       "      <td>dst_host_diff_srv_rate</td>\n",
       "      <td>0.076432</td>\n",
       "      <td>0.043846</td>\n",
       "      <td>0.051016</td>\n",
       "    </tr>\n",
       "    <tr>\n",
       "      <th>34</th>\n",
       "      <td>dst_host_same_src_port_rate</td>\n",
       "      <td>0.052058</td>\n",
       "      <td>0.033972</td>\n",
       "      <td>0.008548</td>\n",
       "    </tr>\n",
       "    <tr>\n",
       "      <th>31</th>\n",
       "      <td>dst_host_srv_count</td>\n",
       "      <td>0.027198</td>\n",
       "      <td>0.022538</td>\n",
       "      <td>0.018000</td>\n",
       "    </tr>\n",
       "    <tr>\n",
       "      <th>12</th>\n",
       "      <td>num_compromised</td>\n",
       "      <td>0.015858</td>\n",
       "      <td>0.009350</td>\n",
       "      <td>0.006699</td>\n",
       "    </tr>\n",
       "    <tr>\n",
       "      <th>2</th>\n",
       "      <td>service</td>\n",
       "      <td>0.014988</td>\n",
       "      <td>0.036359</td>\n",
       "      <td>0.007802</td>\n",
       "    </tr>\n",
       "    <tr>\n",
       "      <th>5</th>\n",
       "      <td>dst_bytes</td>\n",
       "      <td>0.011577</td>\n",
       "      <td>0.143488</td>\n",
       "      <td>0.062353</td>\n",
       "    </tr>\n",
       "    <tr>\n",
       "      <th>28</th>\n",
       "      <td>diff_srv_rate</td>\n",
       "      <td>0.009275</td>\n",
       "      <td>0.058888</td>\n",
       "      <td>0.035088</td>\n",
       "    </tr>\n",
       "    <tr>\n",
       "      <th>22</th>\n",
       "      <td>srv_count</td>\n",
       "      <td>0.007913</td>\n",
       "      <td>0.022808</td>\n",
       "      <td>0.008270</td>\n",
       "    </tr>\n",
       "    <tr>\n",
       "      <th>9</th>\n",
       "      <td>hot</td>\n",
       "      <td>0.005193</td>\n",
       "      <td>0.013218</td>\n",
       "      <td>0.003264</td>\n",
       "    </tr>\n",
       "    <tr>\n",
       "      <th>35</th>\n",
       "      <td>dst_host_srv_diff_host_rate</td>\n",
       "      <td>0.005141</td>\n",
       "      <td>0.028215</td>\n",
       "      <td>0.049497</td>\n",
       "    </tr>\n",
       "    <tr>\n",
       "      <th>27</th>\n",
       "      <td>same_srv_rate</td>\n",
       "      <td>0.000118</td>\n",
       "      <td>0.062271</td>\n",
       "      <td>0.194918</td>\n",
       "    </tr>\n",
       "    <tr>\n",
       "      <th>36</th>\n",
       "      <td>dst_host_serror_rate</td>\n",
       "      <td>0.004798</td>\n",
       "      <td>0.041073</td>\n",
       "      <td>0.078092</td>\n",
       "    </tr>\n",
       "    <tr>\n",
       "      <th>7</th>\n",
       "      <td>wrong_fragment</td>\n",
       "      <td>0.003724</td>\n",
       "      <td>0.004597</td>\n",
       "      <td>0.013347</td>\n",
       "    </tr>\n",
       "    <tr>\n",
       "      <th>23</th>\n",
       "      <td>serror_rate</td>\n",
       "      <td>0.001815</td>\n",
       "      <td>0.078814</td>\n",
       "      <td>0.012290</td>\n",
       "    </tr>\n",
       "    <tr>\n",
       "      <th>1</th>\n",
       "      <td>protocol_type</td>\n",
       "      <td>0.000921</td>\n",
       "      <td>0.018776</td>\n",
       "      <td>0.011429</td>\n",
       "    </tr>\n",
       "    <tr>\n",
       "      <th>24</th>\n",
       "      <td>srv_serror_rate</td>\n",
       "      <td>0.000000</td>\n",
       "      <td>0.077782</td>\n",
       "      <td>0.000349</td>\n",
       "    </tr>\n",
       "  </tbody>\n",
       "</table>\n",
       "</div>"
      ],
      "text/plain": [
       "                       features  DecisionTree  RandomForest  GradientBoost\n",
       "4                     src_bytes      0.540791      0.111110       0.361486\n",
       "21                        count      0.200063      0.030499       0.054403\n",
       "33       dst_host_diff_srv_rate      0.076432      0.043846       0.051016\n",
       "34  dst_host_same_src_port_rate      0.052058      0.033972       0.008548\n",
       "31           dst_host_srv_count      0.027198      0.022538       0.018000\n",
       "12              num_compromised      0.015858      0.009350       0.006699\n",
       "2                       service      0.014988      0.036359       0.007802\n",
       "5                     dst_bytes      0.011577      0.143488       0.062353\n",
       "28                diff_srv_rate      0.009275      0.058888       0.035088\n",
       "22                    srv_count      0.007913      0.022808       0.008270\n",
       "9                           hot      0.005193      0.013218       0.003264\n",
       "35  dst_host_srv_diff_host_rate      0.005141      0.028215       0.049497\n",
       "27                same_srv_rate      0.000118      0.062271       0.194918\n",
       "36         dst_host_serror_rate      0.004798      0.041073       0.078092\n",
       "7                wrong_fragment      0.003724      0.004597       0.013347\n",
       "23                  serror_rate      0.001815      0.078814       0.012290\n",
       "1                 protocol_type      0.000921      0.018776       0.011429\n",
       "24              srv_serror_rate      0.000000      0.077782       0.000349"
      ]
     },
     "execution_count": 64,
     "metadata": {},
     "output_type": "execute_result"
    }
   ],
   "source": [
    "result = pd.concat([d_f,g_f, r_f])\n",
    "result = result.drop_duplicates() # duplicate feature삭제\n",
    "result"
   ]
  },
  {
   "cell_type": "code",
   "execution_count": 74,
   "metadata": {
    "_cell_guid": "a6e3bfba-4dba-43fa-b364-07a9378377da",
    "_uuid": "5dc58fd0a44b69a5b54e3a58a0a738bdb87bdda2",
    "scrolled": false
   },
   "outputs": [
    {
     "data": {
      "text/plain": [
       "['src_bytes',\n",
       " 'count',\n",
       " 'dst_host_diff_srv_rate',\n",
       " 'dst_host_same_src_port_rate',\n",
       " 'dst_host_srv_count',\n",
       " 'num_compromised',\n",
       " 'service',\n",
       " 'dst_bytes',\n",
       " 'diff_srv_rate',\n",
       " 'srv_count',\n",
       " 'hot',\n",
       " 'dst_host_srv_diff_host_rate',\n",
       " 'same_srv_rate',\n",
       " 'dst_host_serror_rate',\n",
       " 'wrong_fragment',\n",
       " 'serror_rate',\n",
       " 'protocol_type',\n",
       " 'srv_serror_rate']"
      ]
     },
     "execution_count": 74,
     "metadata": {},
     "output_type": "execute_result"
    }
   ],
   "source": [
    "selected_features = result['features'].values.tolist()\n",
    "selected_features"
   ]
  },
  {
   "cell_type": "markdown",
   "metadata": {
    "_cell_guid": "c9b2ed2b-06cd-4b08-822d-50c9828e0078",
    "_uuid": "e25e9879435421a072ab3d510c191dd9ba51f98a"
   },
   "source": [
    "  "
   ]
  },
  {
   "cell_type": "markdown",
   "metadata": {
    "_cell_guid": "df1163df-e894-4d97-953b-3fd4bd6e5042",
    "_uuid": "ff264ffff9eee58536f79b11ad9fb360b9851b07"
   },
   "source": [
    "\n",
    "\n"
   ]
  },
  {
   "cell_type": "markdown",
   "metadata": {
    "_cell_guid": "643b3d53-660b-4381-8075-bece770d15ac",
    "_uuid": "485a0247c1ce3e1c754dfe1287beea3d8bb34c55"
   },
   "source": [
    "###  standard deviation feature training."
   ]
  },
  {
   "cell_type": "code",
   "execution_count": 65,
   "metadata": {
    "_cell_guid": "5b7a01d5-9560-468c-a31f-8dd70aeeac11",
    "_uuid": "5896caa58b65ddd20e7140a707e0b26a508f7a69"
   },
   "outputs": [
    {
     "data": {
      "text/plain": [
       "RandomForestClassifier(criterion='entropy', n_estimators=10)"
      ]
     },
     "execution_count": 65,
     "metadata": {},
     "output_type": "execute_result"
    }
   ],
   "source": [
    "RF.fit(X_train_stdrop, Y_train)"
   ]
  },
  {
   "cell_type": "code",
   "execution_count": 68,
   "metadata": {
    "_cell_guid": "47adb753-5d6d-4d14-a4e3-36112a56b125",
    "_uuid": "447a55f24b34603b0e29fafa5cd0fc34e0f54f96"
   },
   "outputs": [
    {
     "name": "stdout",
     "output_type": "stream",
     "text": [
      "RandeomForest_stdrop processing ,,,\n",
      "RandeomForest Score: 0.758 %\n"
     ]
    }
   ],
   "source": [
    "rf2_score = RF.score(X_test_stdrop, Y_test)\n",
    "\n",
    "print('RandeomForest_stdrop processing ,,,')\n",
    "print('RandeomForest Score: %.3f %%' % rf2_score)"
   ]
  },
  {
   "cell_type": "code",
   "execution_count": 97,
   "metadata": {
    "_cell_guid": "b7b2d4bc-d577-48f9-aca7-f65d37fa006a",
    "_uuid": "a0f73db1d1d23e920c0120986168e166adbf9495"
   },
   "outputs": [
    {
     "data": {
      "text/plain": [
       "GradientBoostingClassifier(max_features='auto', n_estimators=200)"
      ]
     },
     "execution_count": 97,
     "metadata": {},
     "output_type": "execute_result"
    }
   ],
   "source": [
    "GB.fit(X_train_stdrop, Y_train)"
   ]
  },
  {
   "cell_type": "code",
   "execution_count": 98,
   "metadata": {
    "_cell_guid": "fbf43d5c-5668-45d1-a664-20bcc64f197f",
    "_uuid": "67259e4de30174ad21b5d41214b5882dad691746"
   },
   "outputs": [
    {
     "name": "stdout",
     "output_type": "stream",
     "text": [
      "GradientBoost_stdrop processing ,,,\n",
      "GradientBoost Score: 0.735 %\n"
     ]
    }
   ],
   "source": [
    "gb2_score = GB.score(X_test_stdrop, Y_test)\n",
    "\n",
    "print('GradientBoost_stdrop processing ,,,')\n",
    "print('GradientBoost Score: %.3f %%' % knn2_score)"
   ]
  },
  {
   "cell_type": "code",
   "execution_count": 71,
   "metadata": {
    "_cell_guid": "d3cc1b5e-c80a-4839-a543-f40377a3f897",
    "_uuid": "c00ac7456975a9af2bd7e11c6daadb05121a6a3c"
   },
   "outputs": [
    {
     "data": {
      "text/plain": [
       "DecisionTreeClassifier(random_state=42)"
      ]
     },
     "execution_count": 71,
     "metadata": {},
     "output_type": "execute_result"
    }
   ],
   "source": [
    "DT.fit(X_train_stdrop, Y_train)"
   ]
  },
  {
   "cell_type": "code",
   "execution_count": 72,
   "metadata": {
    "_cell_guid": "b8c50fbd-2f13-4da0-b729-77ee986a0aec",
    "_uuid": "686b33dbf7c1c0558ac090cecb63321243a096a1"
   },
   "outputs": [
    {
     "name": "stdout",
     "output_type": "stream",
     "text": [
      "DecisionTreeClassifier_stdrop processing ,,,\n",
      "DecisonTreeClassifier Score: 0.769 %\n"
     ]
    }
   ],
   "source": [
    "dt2_score = DT.score(X_test_stdrop, Y_test)\n",
    "\n",
    "print('DecisionTreeClassifier_stdrop processing ,,,')\n",
    "print('DecisonTreeClassifier Score: %.3f %%' % dt2_score)"
   ]
  },
  {
   "cell_type": "markdown",
   "metadata": {
    "_cell_guid": "93c1a550-8662-4f12-a24b-6ad9f14df882",
    "_uuid": "b794a179db6d8ae9ac47dccb1fd74492669d0f11"
   },
   "source": [
    "- ensemble feature"
   ]
  },
  {
   "cell_type": "code",
   "execution_count": 75,
   "metadata": {
    "_cell_guid": "35de61e3-c3ff-4c8d-9241-de794d481b1d",
    "_uuid": "e0d9dd7e7e566c20aa8023ea781db3e8da038713"
   },
   "outputs": [
    {
     "data": {
      "text/html": [
       "<div>\n",
       "<style scoped>\n",
       "    .dataframe tbody tr th:only-of-type {\n",
       "        vertical-align: middle;\n",
       "    }\n",
       "\n",
       "    .dataframe tbody tr th {\n",
       "        vertical-align: top;\n",
       "    }\n",
       "\n",
       "    .dataframe thead th {\n",
       "        text-align: right;\n",
       "    }\n",
       "</style>\n",
       "<table border=\"1\" class=\"dataframe\">\n",
       "  <thead>\n",
       "    <tr style=\"text-align: right;\">\n",
       "      <th></th>\n",
       "      <th>src_bytes</th>\n",
       "      <th>count</th>\n",
       "      <th>dst_host_diff_srv_rate</th>\n",
       "      <th>dst_host_same_src_port_rate</th>\n",
       "      <th>dst_host_srv_count</th>\n",
       "      <th>num_compromised</th>\n",
       "      <th>service</th>\n",
       "      <th>dst_bytes</th>\n",
       "      <th>diff_srv_rate</th>\n",
       "      <th>srv_count</th>\n",
       "      <th>hot</th>\n",
       "      <th>dst_host_srv_diff_host_rate</th>\n",
       "      <th>same_srv_rate</th>\n",
       "      <th>dst_host_serror_rate</th>\n",
       "      <th>wrong_fragment</th>\n",
       "      <th>serror_rate</th>\n",
       "      <th>protocol_type</th>\n",
       "      <th>srv_serror_rate</th>\n",
       "    </tr>\n",
       "  </thead>\n",
       "  <tbody>\n",
       "    <tr>\n",
       "      <th>0</th>\n",
       "      <td>0</td>\n",
       "      <td>110</td>\n",
       "      <td>0.00</td>\n",
       "      <td>0.00</td>\n",
       "      <td>255</td>\n",
       "      <td>0</td>\n",
       "      <td>25</td>\n",
       "      <td>0</td>\n",
       "      <td>0.0</td>\n",
       "      <td>110</td>\n",
       "      <td>0</td>\n",
       "      <td>0.00</td>\n",
       "      <td>1.0</td>\n",
       "      <td>0.65</td>\n",
       "      <td>0</td>\n",
       "      <td>1.0</td>\n",
       "      <td>0</td>\n",
       "      <td>1.0</td>\n",
       "    </tr>\n",
       "    <tr>\n",
       "      <th>1</th>\n",
       "      <td>312</td>\n",
       "      <td>1</td>\n",
       "      <td>0.00</td>\n",
       "      <td>1.00</td>\n",
       "      <td>254</td>\n",
       "      <td>0</td>\n",
       "      <td>25</td>\n",
       "      <td>1856</td>\n",
       "      <td>0.0</td>\n",
       "      <td>9</td>\n",
       "      <td>0</td>\n",
       "      <td>0.06</td>\n",
       "      <td>1.0</td>\n",
       "      <td>0.00</td>\n",
       "      <td>0</td>\n",
       "      <td>0.0</td>\n",
       "      <td>0</td>\n",
       "      <td>0.0</td>\n",
       "    </tr>\n",
       "    <tr>\n",
       "      <th>2</th>\n",
       "      <td>245</td>\n",
       "      <td>5</td>\n",
       "      <td>0.00</td>\n",
       "      <td>0.01</td>\n",
       "      <td>255</td>\n",
       "      <td>0</td>\n",
       "      <td>25</td>\n",
       "      <td>2058</td>\n",
       "      <td>0.0</td>\n",
       "      <td>5</td>\n",
       "      <td>0</td>\n",
       "      <td>0.05</td>\n",
       "      <td>1.0</td>\n",
       "      <td>0.01</td>\n",
       "      <td>0</td>\n",
       "      <td>0.0</td>\n",
       "      <td>0</td>\n",
       "      <td>0.0</td>\n",
       "    </tr>\n",
       "    <tr>\n",
       "      <th>3</th>\n",
       "      <td>298</td>\n",
       "      <td>4</td>\n",
       "      <td>0.00</td>\n",
       "      <td>0.00</td>\n",
       "      <td>255</td>\n",
       "      <td>0</td>\n",
       "      <td>25</td>\n",
       "      <td>1267</td>\n",
       "      <td>0.0</td>\n",
       "      <td>18</td>\n",
       "      <td>0</td>\n",
       "      <td>0.00</td>\n",
       "      <td>1.0</td>\n",
       "      <td>0.00</td>\n",
       "      <td>0</td>\n",
       "      <td>0.0</td>\n",
       "      <td>0</td>\n",
       "      <td>0.0</td>\n",
       "    </tr>\n",
       "    <tr>\n",
       "      <th>4</th>\n",
       "      <td>740</td>\n",
       "      <td>1</td>\n",
       "      <td>0.03</td>\n",
       "      <td>0.18</td>\n",
       "      <td>19</td>\n",
       "      <td>0</td>\n",
       "      <td>20</td>\n",
       "      <td>0</td>\n",
       "      <td>0.0</td>\n",
       "      <td>1</td>\n",
       "      <td>0</td>\n",
       "      <td>0.00</td>\n",
       "      <td>1.0</td>\n",
       "      <td>0.00</td>\n",
       "      <td>0</td>\n",
       "      <td>0.0</td>\n",
       "      <td>0</td>\n",
       "      <td>0.0</td>\n",
       "    </tr>\n",
       "  </tbody>\n",
       "</table>\n",
       "</div>"
      ],
      "text/plain": [
       "   src_bytes  count  dst_host_diff_srv_rate  dst_host_same_src_port_rate  \\\n",
       "0          0    110                    0.00                         0.00   \n",
       "1        312      1                    0.00                         1.00   \n",
       "2        245      5                    0.00                         0.01   \n",
       "3        298      4                    0.00                         0.00   \n",
       "4        740      1                    0.03                         0.18   \n",
       "\n",
       "   dst_host_srv_count  num_compromised  service  dst_bytes  diff_srv_rate  \\\n",
       "0                 255                0       25          0            0.0   \n",
       "1                 254                0       25       1856            0.0   \n",
       "2                 255                0       25       2058            0.0   \n",
       "3                 255                0       25       1267            0.0   \n",
       "4                  19                0       20          0            0.0   \n",
       "\n",
       "   srv_count  hot  dst_host_srv_diff_host_rate  same_srv_rate  \\\n",
       "0        110    0                         0.00            1.0   \n",
       "1          9    0                         0.06            1.0   \n",
       "2          5    0                         0.05            1.0   \n",
       "3         18    0                         0.00            1.0   \n",
       "4          1    0                         0.00            1.0   \n",
       "\n",
       "   dst_host_serror_rate  wrong_fragment  serror_rate  protocol_type  \\\n",
       "0                  0.65               0          1.0              0   \n",
       "1                  0.00               0          0.0              0   \n",
       "2                  0.01               0          0.0              0   \n",
       "3                  0.00               0          0.0              0   \n",
       "4                  0.00               0          0.0              0   \n",
       "\n",
       "   srv_serror_rate  \n",
       "0              1.0  \n",
       "1              0.0  \n",
       "2              0.0  \n",
       "3              0.0  \n",
       "4              0.0  "
      ]
     },
     "execution_count": 75,
     "metadata": {},
     "output_type": "execute_result"
    }
   ],
   "source": [
    "X_train_ens = X_train[selected_features]\n",
    "X_train_ens.head()\n",
    "\n",
    "X_test_ens = X_test[selected_features]\n",
    "X_test_ens.head()"
   ]
  },
  {
   "cell_type": "markdown",
   "metadata": {
    "_cell_guid": "cf28a870-2701-4887-ac89-a5250d52e19a",
    "_uuid": "2754765183612de6d7cb33d010886791d23f2eed"
   },
   "source": [
    "### 3. Correlation\n",
    "    "
   ]
  },
  {
   "cell_type": "code",
   "execution_count": 76,
   "metadata": {
    "_cell_guid": "a2c8bd16-25b4-477e-bf5d-c762243079f2",
    "_uuid": "b10e7c3523f29bc884fc9e20748ebcba7d7c0f55"
   },
   "outputs": [
    {
     "data": {
      "text/plain": [
       "<AxesSubplot:>"
      ]
     },
     "execution_count": 76,
     "metadata": {},
     "output_type": "execute_result"
    },
    {
     "data": {
      "image/png": "[encoded data removed]",
      "text/plain": [
       "<Figure size 1440x1440 with 2 Axes>"
      ]
     },
     "metadata": {
      "needs_background": "light"
     },
     "output_type": "display_data"
    }
   ],
   "source": [
    "sample = X_train_ens[:10000]\n",
    "\n",
    "colormap = plt.cm.viridis\n",
    "plt.figure(figsize=(20, 20))\n",
    "sns.heatmap(sample.astype(float).corr(), linewidths=0.1, vmax=1.0, square=True, cmap=colormap, annot=True)"
   ]
  },
  {
   "cell_type": "code",
   "execution_count": 85,
   "metadata": {
    "_cell_guid": "c460679f-30ad-482d-bb94-3d04203283af",
    "_uuid": "4424fb798329958c7fb825bd2be21bb07352edc0"
   },
   "outputs": [
    {
     "data": {
      "text/html": [
       "<div>\n",
       "<style scoped>\n",
       "    .dataframe tbody tr th:only-of-type {\n",
       "        vertical-align: middle;\n",
       "    }\n",
       "\n",
       "    .dataframe tbody tr th {\n",
       "        vertical-align: top;\n",
       "    }\n",
       "\n",
       "    .dataframe thead th {\n",
       "        text-align: right;\n",
       "    }\n",
       "</style>\n",
       "<table border=\"1\" class=\"dataframe\">\n",
       "  <thead>\n",
       "    <tr style=\"text-align: right;\">\n",
       "      <th></th>\n",
       "      <th>src_bytes</th>\n",
       "      <th>count</th>\n",
       "      <th>dst_host_diff_srv_rate</th>\n",
       "      <th>dst_host_same_src_port_rate</th>\n",
       "      <th>dst_host_srv_count</th>\n",
       "      <th>num_compromised</th>\n",
       "      <th>service</th>\n",
       "      <th>dst_bytes</th>\n",
       "      <th>diff_srv_rate</th>\n",
       "      <th>srv_count</th>\n",
       "      <th>hot</th>\n",
       "      <th>dst_host_srv_diff_host_rate</th>\n",
       "      <th>same_srv_rate</th>\n",
       "      <th>wrong_fragment</th>\n",
       "      <th>protocol_type</th>\n",
       "      <th>srv_serror_rate</th>\n",
       "    </tr>\n",
       "  </thead>\n",
       "  <tbody>\n",
       "    <tr>\n",
       "      <th>count</th>\n",
       "      <td>1.000000e+04</td>\n",
       "      <td>10000.000000</td>\n",
       "      <td>10000.000000</td>\n",
       "      <td>10000.000000</td>\n",
       "      <td>10000.000000</td>\n",
       "      <td>10000.000000</td>\n",
       "      <td>10000.000000</td>\n",
       "      <td>1.000000e+04</td>\n",
       "      <td>10000.000000</td>\n",
       "      <td>10000.000000</td>\n",
       "      <td>10000.000000</td>\n",
       "      <td>10000.000000</td>\n",
       "      <td>10000.000000</td>\n",
       "      <td>10000.000000</td>\n",
       "      <td>10000.000000</td>\n",
       "      <td>10000.000000</td>\n",
       "    </tr>\n",
       "    <tr>\n",
       "      <th>mean</th>\n",
       "      <td>6.845032e+03</td>\n",
       "      <td>80.152400</td>\n",
       "      <td>0.089412</td>\n",
       "      <td>0.133167</td>\n",
       "      <td>139.645700</td>\n",
       "      <td>0.020500</td>\n",
       "      <td>35.451700</td>\n",
       "      <td>1.996999e+03</td>\n",
       "      <td>0.089752</td>\n",
       "      <td>31.730900</td>\n",
       "      <td>0.093200</td>\n",
       "      <td>0.020102</td>\n",
       "      <td>0.739925</td>\n",
       "      <td>0.009000</td>\n",
       "      <td>0.278600</td>\n",
       "      <td>0.101696</td>\n",
       "    </tr>\n",
       "    <tr>\n",
       "      <th>std</th>\n",
       "      <td>8.675409e+04</td>\n",
       "      <td>129.028094</td>\n",
       "      <td>0.218190</td>\n",
       "      <td>0.307154</td>\n",
       "      <td>111.548555</td>\n",
       "      <td>0.289289</td>\n",
       "      <td>15.824769</td>\n",
       "      <td>2.006975e+04</td>\n",
       "      <td>0.252240</td>\n",
       "      <td>90.353536</td>\n",
       "      <td>0.647731</td>\n",
       "      <td>0.089353</td>\n",
       "      <td>0.413711</td>\n",
       "      <td>0.146701</td>\n",
       "      <td>0.657134</td>\n",
       "      <td>0.295464</td>\n",
       "    </tr>\n",
       "    <tr>\n",
       "      <th>min</th>\n",
       "      <td>0.000000e+00</td>\n",
       "      <td>1.000000</td>\n",
       "      <td>0.000000</td>\n",
       "      <td>0.000000</td>\n",
       "      <td>0.000000</td>\n",
       "      <td>0.000000</td>\n",
       "      <td>1.000000</td>\n",
       "      <td>0.000000e+00</td>\n",
       "      <td>0.000000</td>\n",
       "      <td>1.000000</td>\n",
       "      <td>0.000000</td>\n",
       "      <td>0.000000</td>\n",
       "      <td>0.000000</td>\n",
       "      <td>0.000000</td>\n",
       "      <td>0.000000</td>\n",
       "      <td>0.000000</td>\n",
       "    </tr>\n",
       "    <tr>\n",
       "      <th>25%</th>\n",
       "      <td>0.000000e+00</td>\n",
       "      <td>1.000000</td>\n",
       "      <td>0.000000</td>\n",
       "      <td>0.000000</td>\n",
       "      <td>15.000000</td>\n",
       "      <td>0.000000</td>\n",
       "      <td>25.000000</td>\n",
       "      <td>0.000000e+00</td>\n",
       "      <td>0.000000</td>\n",
       "      <td>1.000000</td>\n",
       "      <td>0.000000</td>\n",
       "      <td>0.000000</td>\n",
       "      <td>0.200000</td>\n",
       "      <td>0.000000</td>\n",
       "      <td>0.000000</td>\n",
       "      <td>0.000000</td>\n",
       "    </tr>\n",
       "    <tr>\n",
       "      <th>50%</th>\n",
       "      <td>5.400000e+01</td>\n",
       "      <td>8.000000</td>\n",
       "      <td>0.020000</td>\n",
       "      <td>0.000000</td>\n",
       "      <td>159.500000</td>\n",
       "      <td>0.000000</td>\n",
       "      <td>25.000000</td>\n",
       "      <td>4.400000e+01</td>\n",
       "      <td>0.000000</td>\n",
       "      <td>6.000000</td>\n",
       "      <td>0.000000</td>\n",
       "      <td>0.000000</td>\n",
       "      <td>1.000000</td>\n",
       "      <td>0.000000</td>\n",
       "      <td>0.000000</td>\n",
       "      <td>0.000000</td>\n",
       "    </tr>\n",
       "    <tr>\n",
       "      <th>75%</th>\n",
       "      <td>2.850000e+02</td>\n",
       "      <td>126.000000</td>\n",
       "      <td>0.060000</td>\n",
       "      <td>0.030000</td>\n",
       "      <td>255.000000</td>\n",
       "      <td>0.000000</td>\n",
       "      <td>50.000000</td>\n",
       "      <td>5.990000e+02</td>\n",
       "      <td>0.060000</td>\n",
       "      <td>16.000000</td>\n",
       "      <td>0.000000</td>\n",
       "      <td>0.010000</td>\n",
       "      <td>1.000000</td>\n",
       "      <td>0.000000</td>\n",
       "      <td>0.000000</td>\n",
       "      <td>0.000000</td>\n",
       "    </tr>\n",
       "    <tr>\n",
       "      <th>max</th>\n",
       "      <td>6.291668e+06</td>\n",
       "      <td>511.000000</td>\n",
       "      <td>1.000000</td>\n",
       "      <td>1.000000</td>\n",
       "      <td>255.000000</td>\n",
       "      <td>15.000000</td>\n",
       "      <td>70.000000</td>\n",
       "      <td>1.285078e+06</td>\n",
       "      <td>1.000000</td>\n",
       "      <td>511.000000</td>\n",
       "      <td>30.000000</td>\n",
       "      <td>1.000000</td>\n",
       "      <td>1.000000</td>\n",
       "      <td>3.000000</td>\n",
       "      <td>2.000000</td>\n",
       "      <td>1.000000</td>\n",
       "    </tr>\n",
       "  </tbody>\n",
       "</table>\n",
       "</div>"
      ],
      "text/plain": [
       "          src_bytes         count  dst_host_diff_srv_rate  \\\n",
       "count  1.000000e+04  10000.000000            10000.000000   \n",
       "mean   6.845032e+03     80.152400                0.089412   \n",
       "std    8.675409e+04    129.028094                0.218190   \n",
       "min    0.000000e+00      1.000000                0.000000   \n",
       "25%    0.000000e+00      1.000000                0.000000   \n",
       "50%    5.400000e+01      8.000000                0.020000   \n",
       "75%    2.850000e+02    126.000000                0.060000   \n",
       "max    6.291668e+06    511.000000                1.000000   \n",
       "\n",
       "       dst_host_same_src_port_rate  dst_host_srv_count  num_compromised  \\\n",
       "count                 10000.000000        10000.000000     10000.000000   \n",
       "mean                      0.133167          139.645700         0.020500   \n",
       "std                       0.307154          111.548555         0.289289   \n",
       "min                       0.000000            0.000000         0.000000   \n",
       "25%                       0.000000           15.000000         0.000000   \n",
       "50%                       0.000000          159.500000         0.000000   \n",
       "75%                       0.030000          255.000000         0.000000   \n",
       "max                       1.000000          255.000000        15.000000   \n",
       "\n",
       "            service     dst_bytes  diff_srv_rate     srv_count           hot  \\\n",
       "count  10000.000000  1.000000e+04   10000.000000  10000.000000  10000.000000   \n",
       "mean      35.451700  1.996999e+03       0.089752     31.730900      0.093200   \n",
       "std       15.824769  2.006975e+04       0.252240     90.353536      0.647731   \n",
       "min        1.000000  0.000000e+00       0.000000      1.000000      0.000000   \n",
       "25%       25.000000  0.000000e+00       0.000000      1.000000      0.000000   \n",
       "50%       25.000000  4.400000e+01       0.000000      6.000000      0.000000   \n",
       "75%       50.000000  5.990000e+02       0.060000     16.000000      0.000000   \n",
       "max       70.000000  1.285078e+06       1.000000    511.000000     30.000000   \n",
       "\n",
       "       dst_host_srv_diff_host_rate  same_srv_rate  wrong_fragment  \\\n",
       "count                 10000.000000   10000.000000    10000.000000   \n",
       "mean                      0.020102       0.739925        0.009000   \n",
       "std                       0.089353       0.413711        0.146701   \n",
       "min                       0.000000       0.000000        0.000000   \n",
       "25%                       0.000000       0.200000        0.000000   \n",
       "50%                       0.000000       1.000000        0.000000   \n",
       "75%                       0.010000       1.000000        0.000000   \n",
       "max                       1.000000       1.000000        3.000000   \n",
       "\n",
       "       protocol_type  srv_serror_rate  \n",
       "count   10000.000000     10000.000000  \n",
       "mean        0.278600         0.101696  \n",
       "std         0.657134         0.295464  \n",
       "min         0.000000         0.000000  \n",
       "25%         0.000000         0.000000  \n",
       "50%         0.000000         0.000000  \n",
       "75%         0.000000         0.000000  \n",
       "max         2.000000         1.000000  "
      ]
     },
     "execution_count": 85,
     "metadata": {},
     "output_type": "execute_result"
    }
   ],
   "source": [
    "selected2 = ['dst_host_serror_rate', 'serror_rate']\n",
    "X_train_cordrop = X_train_ens.drop(selected2, axis=1)\n",
    "X_train_cordrop.describe()\n",
    "\n",
    "X_test_cordrop = X_test_ens.drop(selected2, axis=1)\n",
    "X_test_cordrop.describe()"
   ]
  },
  {
   "cell_type": "markdown",
   "metadata": {
    "_cell_guid": "bca84307-e401-4c50-9437-990f23354504",
    "_uuid": "437afad9f3871fa8587de8aa3e8c26ca7aea5c82"
   },
   "source": [
    "## 2) Modeling"
   ]
  },
  {
   "cell_type": "markdown",
   "metadata": {
    "_cell_guid": "99a7ea76-d290-4cba-9db2-5e32fd4ef880",
    "_uuid": "5a62f476a6d659f77dbb50316f2c8d315eb0b81f"
   },
   "source": [
    "### Feature selection modeling (low deviation, high correlation )"
   ]
  },
  {
   "cell_type": "markdown",
   "metadata": {
    "_cell_guid": "99fe485a-9166-4981-9b43-4e4870bb8b61",
    "_uuid": "aa98e8b43c274dce6059e103f8e21f9f3b102ca1"
   },
   "source": [
    "### Ensemble modeling feature modeling"
   ]
  },
  {
   "cell_type": "code",
   "execution_count": 86,
   "metadata": {
    "_cell_guid": "c23bd60e-53b1-4c86-86d6-3c17a3d68559",
    "_uuid": "a246e57258d14976d35c4dbdabc7ca3f483b34ed"
   },
   "outputs": [
    {
     "data": {
      "text/plain": [
       "RandomForestClassifier(criterion='entropy', n_estimators=10)"
      ]
     },
     "execution_count": 86,
     "metadata": {},
     "output_type": "execute_result"
    }
   ],
   "source": [
    "RF.fit(X_train_cordrop, Y_train)"
   ]
  },
  {
   "cell_type": "code",
   "execution_count": 87,
   "metadata": {
    "_cell_guid": "b10f4e16-ec4c-4282-b220-4b89890beafd",
    "_uuid": "727fda72f8d042aceeeb3ec34ddb31ecd89cfdff"
   },
   "outputs": [
    {
     "name": "stdout",
     "output_type": "stream",
     "text": [
      "RandomForestClassifier_final processing ,,,\n",
      "RandomForestClassifier_final Score: 0.745 %\n"
     ]
    }
   ],
   "source": [
    "rf_finalscore = RF.score(X_test_cordrop, Y_test)\n",
    "\n",
    "print('RandomForestClassifier_final processing ,,,')\n",
    "print('RandomForestClassifier_final Score: %.3f %%' % rf_finalscore)"
   ]
  },
  {
   "cell_type": "code",
   "execution_count": 88,
   "metadata": {
    "_cell_guid": "6c5110b5-31be-481c-851b-61ddd2805af9",
    "_uuid": "68f083e6cd6b486f0d9f8abac38f71c5b7c94c71"
   },
   "outputs": [
    {
     "data": {
      "text/plain": [
       "GradientBoostingClassifier(max_features='auto', n_estimators=200)"
      ]
     },
     "execution_count": 88,
     "metadata": {},
     "output_type": "execute_result"
    }
   ],
   "source": [
    "GB.fit(X_train_cordrop, Y_train)"
   ]
  },
  {
   "cell_type": "code",
   "execution_count": 90,
   "metadata": {
    "_cell_guid": "52819ba1-5003-4d17-92a2-18088987b29f",
    "_uuid": "7c00767e23202dbbeafc7bf1413f64602d516320"
   },
   "outputs": [
    {
     "name": "stdout",
     "output_type": "stream",
     "text": [
      "GradientBoost_final processing ,,,\n",
      "GradientBoost_final Score: 0.762 %\n"
     ]
    }
   ],
   "source": [
    "gb_finalscore = GB.score(X_test_cordrop, Y_test)\n",
    "\n",
    "print('GradientBoost_final processing ,,,')\n",
    "print('GradientBoost_final Score: %.3f %%' % gb_finalscore)"
   ]
  },
  {
   "cell_type": "code",
   "execution_count": 91,
   "metadata": {
    "_cell_guid": "2f5acd58-35ae-48ec-84b8-ade75c908c17",
    "_uuid": "855df2c7826cc5cfe6fe4552dc5f2d22fea395cd"
   },
   "outputs": [
    {
     "data": {
      "text/plain": [
       "DecisionTreeClassifier(random_state=42)"
      ]
     },
     "execution_count": 91,
     "metadata": {},
     "output_type": "execute_result"
    }
   ],
   "source": [
    "DT.fit(X_train_cordrop, Y_train)"
   ]
  },
  {
   "cell_type": "code",
   "execution_count": 92,
   "metadata": {
    "_cell_guid": "eb176ae8-b82e-492b-a72c-ddfb2ddf5124",
    "_uuid": "c2ecd7d47b8ae0c242632d1c9d470c37cf2c6847"
   },
   "outputs": [
    {
     "name": "stdout",
     "output_type": "stream",
     "text": [
      "DeciosnTreeClassifier_final processing ,,,\n",
      "DecisionTreeClassifier_final Score: 0.778 %\n"
     ]
    }
   ],
   "source": [
    "dt_finalscore = DT.score(X_test_cordrop, Y_test)\n",
    "\n",
    "print('DeciosnTreeClassifier_final processing ,,,')\n",
    "print('DecisionTreeClassifier_final Score: %.3f %%' % dt_finalscore)"
   ]
  },
  {
   "cell_type": "markdown",
   "metadata": {
    "_cell_guid": "43f36342-876f-4a20-99d0-ab8234114d35",
    "_uuid": "f13128bb7b5d80477a6fa37be02cd133c82c22f2"
   },
   "source": [
    "## 3) Result"
   ]
  },
  {
   "cell_type": "markdown",
   "metadata": {
    "_cell_guid": "8f682c88-9c33-4fd8-a2ce-1a8d22d3bfdd",
    "_uuid": "87dbe5f8f85a766174de6dd17fd23e6a3118463b"
   },
   "source": [
    " feature selection, extraction"
   ]
  },
  {
   "cell_type": "markdown",
   "metadata": {
    "_cell_guid": "091ef466-7c39-4968-a207-2acfe43e0ef5",
    "_uuid": "7787771bb862c32bf2f9d8aef64bc1b1f41f5ac2",
    "collapsed": true
   },
   "source": [
    "###  score"
   ]
  },
  {
   "cell_type": "markdown",
   "metadata": {
    "_cell_guid": "21cf9ef4-b728-473d-ab5c-9fc750d3b6d0",
    "_uuid": "5a8962af1fe83734dd1306b25f014a9a224b37f1"
   },
   "source": [
    "- first models"
   ]
  },
  {
   "cell_type": "code",
   "execution_count": 101,
   "metadata": {
    "_cell_guid": "62c2bfc6-4371-425f-8122-ebbcde01d793",
    "_uuid": "2addbacc5e659767afd22b7ba6019642bf8dd891"
   },
   "outputs": [
    {
     "data": {
      "text/html": [
       "<div>\n",
       "<style scoped>\n",
       "    .dataframe tbody tr th:only-of-type {\n",
       "        vertical-align: middle;\n",
       "    }\n",
       "\n",
       "    .dataframe tbody tr th {\n",
       "        vertical-align: top;\n",
       "    }\n",
       "\n",
       "    .dataframe thead th {\n",
       "        text-align: right;\n",
       "    }\n",
       "</style>\n",
       "<table border=\"1\" class=\"dataframe\">\n",
       "  <thead>\n",
       "    <tr style=\"text-align: right;\">\n",
       "      <th></th>\n",
       "      <th>Model</th>\n",
       "      <th>accuracy</th>\n",
       "    </tr>\n",
       "  </thead>\n",
       "  <tbody>\n",
       "    <tr>\n",
       "      <th>0</th>\n",
       "      <td>GradientBoost</td>\n",
       "      <td>0.7671</td>\n",
       "    </tr>\n",
       "    <tr>\n",
       "      <th>1</th>\n",
       "      <td>DecisonTree</td>\n",
       "      <td>0.7645</td>\n",
       "    </tr>\n",
       "    <tr>\n",
       "      <th>2</th>\n",
       "      <td>RandomForest</td>\n",
       "      <td>0.7670</td>\n",
       "    </tr>\n",
       "  </tbody>\n",
       "</table>\n",
       "</div>"
      ],
      "text/plain": [
       "           Model  accuracy\n",
       "0  GradientBoost    0.7671\n",
       "1    DecisonTree    0.7645\n",
       "2   RandomForest    0.7670"
      ]
     },
     "execution_count": 101,
     "metadata": {},
     "output_type": "execute_result"
    }
   ],
   "source": [
    "first_model = {'Model': ['GradientBoost', 'DecisonTree', 'RandomForest'],\n",
    "               'accuracy' : [gb_score, dt_score, rf_score]}\n",
    "\n",
    "result_df = pd.DataFrame(data = first_model)\n",
    "result_df"
   ]
  },
  {
   "cell_type": "code",
   "execution_count": 102,
   "metadata": {
    "_cell_guid": "1593e71a-2376-4ce0-aeed-9496d6a34033",
    "_uuid": "9a4819e0776ce7f2b4084db5fdecd50a7f005285"
   },
   "outputs": [
    {
     "data": {
      "text/plain": [
       "[Text(0, 0, 'GradientBoost'),\n",
       " Text(1, 0, 'DecisonTree'),\n",
       " Text(2, 0, 'RandomForest')]"
      ]
     },
     "execution_count": 102,
     "metadata": {},
     "output_type": "execute_result"
    },
    {
     "data": {
      "image/png": "[encoded data removed]",
      "text/plain": [
       "<Figure size 576x576 with 1 Axes>"
      ]
     },
     "metadata": {
      "needs_background": "light"
     },
     "output_type": "display_data"
    }
   ],
   "source": [
    "r1 = result_df.plot(x='Model', y='accuracy', kind='bar', figsize=(8, 8), grid=True, title='FIRST MODEL ACCURACY', colormap=plt.cm.viridis,\n",
    "               sort_columns=True)\n",
    "r1.set_xticklabels(result_df.Model, rotation = 45)"
   ]
  },
  {
   "cell_type": "markdown",
   "metadata": {
    "_cell_guid": "ac55b83e-45ca-4ebe-8b07-fe2cb8c75401",
    "_uuid": "48d088678664594035957f8eb9907f5695b0768d"
   },
   "source": [
    "- second models"
   ]
  },
  {
   "cell_type": "code",
   "execution_count": 103,
   "metadata": {
    "_cell_guid": "30f3c2a5-5580-4a5e-9d26-3c8987b96285",
    "_uuid": "a51fb147aa97a7fd947ca426e2dce59f746ccd75"
   },
   "outputs": [
    {
     "data": {
      "text/html": [
       "<div>\n",
       "<style scoped>\n",
       "    .dataframe tbody tr th:only-of-type {\n",
       "        vertical-align: middle;\n",
       "    }\n",
       "\n",
       "    .dataframe tbody tr th {\n",
       "        vertical-align: top;\n",
       "    }\n",
       "\n",
       "    .dataframe thead th {\n",
       "        text-align: right;\n",
       "    }\n",
       "</style>\n",
       "<table border=\"1\" class=\"dataframe\">\n",
       "  <thead>\n",
       "    <tr style=\"text-align: right;\">\n",
       "      <th></th>\n",
       "      <th>Model</th>\n",
       "      <th>accuracy</th>\n",
       "    </tr>\n",
       "  </thead>\n",
       "  <tbody>\n",
       "    <tr>\n",
       "      <th>0</th>\n",
       "      <td>GradientBoost</td>\n",
       "      <td>0.7507</td>\n",
       "    </tr>\n",
       "    <tr>\n",
       "      <th>1</th>\n",
       "      <td>DecisonTree</td>\n",
       "      <td>0.7694</td>\n",
       "    </tr>\n",
       "    <tr>\n",
       "      <th>2</th>\n",
       "      <td>RandomForest</td>\n",
       "      <td>0.7581</td>\n",
       "    </tr>\n",
       "  </tbody>\n",
       "</table>\n",
       "</div>"
      ],
      "text/plain": [
       "           Model  accuracy\n",
       "0  GradientBoost    0.7507\n",
       "1    DecisonTree    0.7694\n",
       "2   RandomForest    0.7581"
      ]
     },
     "execution_count": 103,
     "metadata": {},
     "output_type": "execute_result"
    }
   ],
   "source": [
    "second_model = {'Model': ['GradientBoost', 'DecisonTree', 'RandomForest'],\n",
    "               'accuracy' : [gb2_score, dt2_score, rf2_score]}\n",
    "\n",
    "result_df = pd.DataFrame(data = second_model)\n",
    "result_df"
   ]
  },
  {
   "cell_type": "code",
   "execution_count": 60,
   "metadata": {
    "_cell_guid": "d0dc189a-81b0-43ad-a816-95dd1d5de5c9",
    "_uuid": "03e9c7e9235421489641d77913f2883ee35237ef"
   },
   "outputs": [
    {
     "data": {
      "text/plain": [
       "[Text(0,0,'Adaboost'),\n",
       " Text(0,0,'RandomForest'),\n",
       " Text(0,0,'ExtraTrees'),\n",
       " Text(0,0,'GradientBoost')]"
      ]
     },
     "execution_count": 60,
     "metadata": {},
     "output_type": "execute_result"
    },
    {
     "data": {
      "image/png": "[encoded data removed]",
      "text/plain": [
       "<matplotlib.figure.Figure at 0x7f144eaed7b8>"
      ]
     },
     "metadata": {},
     "output_type": "display_data"
    }
   ],
   "source": [
    "r2 = result_df.plot(x='Model', y='accuracy', kind='bar', figsize=(8, 8), grid=True, title='SECOND MODEL ACCURACY', colormap=plt.cm.viridis,\n",
    "               sort_columns=True)\n",
    "r2.set_xticklabels(result_df.Model, rotation = 45)"
   ]
  },
  {
   "cell_type": "markdown",
   "metadata": {
    "_cell_guid": "f26eaffe-1b6f-4faa-ad93-8d5e7fa1cfd6",
    "_uuid": "71b6d0ca5a693995bc1e72150b033c526fd904fc"
   },
   "source": [
    "- final models"
   ]
  },
  {
   "cell_type": "code",
   "execution_count": 100,
   "metadata": {
    "_cell_guid": "6fa5246c-5390-4544-8395-21cd4631d4ad",
    "_uuid": "72b23787083c06d972b41872315c40196b9cc539"
   },
   "outputs": [
    {
     "data": {
      "text/html": [
       "<div>\n",
       "<style scoped>\n",
       "    .dataframe tbody tr th:only-of-type {\n",
       "        vertical-align: middle;\n",
       "    }\n",
       "\n",
       "    .dataframe tbody tr th {\n",
       "        vertical-align: top;\n",
       "    }\n",
       "\n",
       "    .dataframe thead th {\n",
       "        text-align: right;\n",
       "    }\n",
       "</style>\n",
       "<table border=\"1\" class=\"dataframe\">\n",
       "  <thead>\n",
       "    <tr style=\"text-align: right;\">\n",
       "      <th></th>\n",
       "      <th>Model</th>\n",
       "      <th>accuracy</th>\n",
       "    </tr>\n",
       "  </thead>\n",
       "  <tbody>\n",
       "    <tr>\n",
       "      <th>0</th>\n",
       "      <td>GradientBoost</td>\n",
       "      <td>0.7616</td>\n",
       "    </tr>\n",
       "    <tr>\n",
       "      <th>1</th>\n",
       "      <td>DecisonTree</td>\n",
       "      <td>0.7779</td>\n",
       "    </tr>\n",
       "    <tr>\n",
       "      <th>2</th>\n",
       "      <td>RandomForest</td>\n",
       "      <td>0.7448</td>\n",
       "    </tr>\n",
       "  </tbody>\n",
       "</table>\n",
       "</div>"
      ],
      "text/plain": [
       "           Model  accuracy\n",
       "0  GradientBoost    0.7616\n",
       "1    DecisonTree    0.7779\n",
       "2   RandomForest    0.7448"
      ]
     },
     "execution_count": 100,
     "metadata": {},
     "output_type": "execute_result"
    }
   ],
   "source": [
    "final_model = {'Model': ['GradientBoost', 'DecisonTree', 'RandomForest'],\n",
    "               'accuracy' : [gb_finalscore, dt_finalscore, rf_finalscore]}\n",
    "\n",
    "result_df = pd.DataFrame(data = final_model)\n",
    "result_df"
   ]
  },
  {
   "cell_type": "code",
   "execution_count": 62,
   "metadata": {
    "_cell_guid": "1f5066b8-b3e2-4037-bf27-b28a4564fe43",
    "_uuid": "508e632d6f8c00799d6eb92f32ff04a63ca1453b"
   },
   "outputs": [
    {
     "data": {
      "text/plain": [
       "[Text(0,0,'Linear Regression'),\n",
       " Text(0,0,'Adaboost'),\n",
       " Text(0,0,'RandomForest'),\n",
       " Text(0,0,'ExtraTrees'),\n",
       " Text(0,0,'GradientBoost'),\n",
       " Text(0,0,'MLP')]"
      ]
     },
     "execution_count": 62,
     "metadata": {},
     "output_type": "execute_result"
    },
    {
     "data": {
      "image/png": "[encoded data removed]",
      "text/plain": [
       "<matplotlib.figure.Figure at 0x7f144ea535c0>"
      ]
     },
     "metadata": {},
     "output_type": "display_data"
    }
   ],
   "source": [
    "r3 = result_df.plot(x='Model', y='accuracy', kind='bar', figsize=(8, 8), grid=True, title='FINAL MODEL ACCURACY', colormap=plt.cm.viridis,\n",
    "               sort_columns=True)\n",
    "r3.set_xticklabels(result_df.Model, rotation = 45)"
   ]
  }
 ],
 "metadata": {
  "kernelspec": {
   "display_name": "Python 3 (ipykernel)",
   "language": "python",
   "name": "python3"
  },
  "language_info": {
   "codemirror_mode": {
    "name": "ipython",
    "version": 3
   },
   "file_extension": ".py",
   "mimetype": "text/x-python",
   "name": "python",
   "nbconvert_exporter": "python",
   "pygments_lexer": "ipython3",
   "version": "3.9.7"
  }
 },
 "nbformat": 4,
 "nbformat_minor": 1
}
